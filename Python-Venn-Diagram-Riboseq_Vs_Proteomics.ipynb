{
 "cells": [
  {
   "cell_type": "markdown",
   "id": "c24bfd83-fbf8-447b-bccd-66bbb1e8defe",
   "metadata": {},
   "source": [
    "# Venn diagram in Python - Ribo-seq/Total-proteomics"
   ]
  },
  {
   "cell_type": "raw",
   "id": "b82dc880-bc1a-44d6-9bbe-228da287e1b8",
   "metadata": {},
   "source": [
    "In this Python code I am going to load R workspace image (.RData) and make Venn diagram for Ribo-seq and proteomics data.\n",
    "Finally, I will make venn diagrams for the common genes in all comparisons."
   ]
  },
  {
   "cell_type": "markdown",
   "id": "895647dd-1225-40b7-827c-9ae03437e47f",
   "metadata": {
    "tags": []
   },
   "source": [
    "<font size=2.5><b>[(Unt Vs. TGF𝛽) and (TGF𝛽 Vs. CX5461)]</b></font><br>\n",
    "<font color=\"orange\"> <font size=2.5><b>Differentially expressed genes in Ribo-seq/ Total-proteomics</b></font></font>"
   ]
  },
  {
   "cell_type": "raw",
   "id": "50d0dd88-8f31-4e12-ab49-427f6417df6c",
   "metadata": {},
   "source": [
    "This is the Python code for the analysis of common genes in Ribo-seq and Proteomics (Both total-input & polysome)."
   ]
  },
  {
   "cell_type": "markdown",
   "id": "3304ee0f-4109-400a-9b8a-dd273bba5f46",
   "metadata": {},
   "source": [
    "# Import Python modules/R libraries (with rpy2)"
   ]
  },
  {
   "cell_type": "code",
   "execution_count": 1,
   "id": "78c707d4-1bd7-4c54-bd49-984c69fb4558",
   "metadata": {},
   "outputs": [],
   "source": [
    "import sys\n",
    "import os\n",
    "import click\n",
    "import numpy as np\n",
    "import pandas as pd\n",
    "import rpy2.robjects as ro\n",
    "#from rpy2.rinterface import RRuntimeError\n",
    "from rpy2.robjects import pandas2ri, Formula\n",
    "from rpy2.robjects.conversion import localconverter\n",
    "from rpy2.robjects.packages import importr\n",
    "#from statsmodels.stats.multitest import multipletests\n",
    "\n",
    "#dplyr in Pyrhon\n",
    "from dfply import *\n",
    "\n",
    "#Import R workspace image (.RData)\n",
    "import pyreadr \n",
    "\n",
    "# Venn diagram\n",
    "import matplotlib.pyplot as plt\n",
    "from matplotlib_venn import venn2\n",
    "from matplotlib_venn import venn3\n",
    "\n",
    "#Import R libraries\n",
    "base = importr('base')\n",
    "stats = importr('stats')\n",
    "limma = importr('limma')\n",
    "writexl = importr('writexl')"
   ]
  },
  {
   "cell_type": "markdown",
   "id": "998fb28a-fecf-4e6c-90ff-81ba30acfc46",
   "metadata": {},
   "source": [
    "# Unt Vs. TGF𝛽 Ribo-seq/total input proteomics\n",
    "<font size = 3><b> Based on upDown/downUp of total RNAseq Vs Ribo-seq"
   ]
  },
  {
   "cell_type": "markdown",
   "id": "29aa9f70-75cb-403c-a608-7e6e2e66c420",
   "metadata": {},
   "source": [
    "## Ribo-seq data"
   ]
  },
  {
   "cell_type": "markdown",
   "id": "08399e07-f074-4e01-a1f0-d22da81252c1",
   "metadata": {},
   "source": [
    "### Load"
   ]
  },
  {
   "cell_type": "code",
   "execution_count": 2,
   "id": "e7e51a93-deb2-4ba8-bd99-f9a372748107",
   "metadata": {},
   "outputs": [
    {
     "name": "stdout",
     "output_type": "stream",
     "text": [
      "Load R workspace image (.RData) file in Python\n",
      "\n",
      "Name of all files/function/variables in Rdata image\n",
      "\n",
      "odict_keys(['df_count_mrna', 'df_count_ribo', 'sym_rnaseq', 'sym_riboseq', 'sym_detected_both', 'sym_detected_rnaseq_only', 'sym_detected_riboseq_only', 'df_all', 'sym_mrna', 'sym_mrna_up', 'sym_mrna_dn', 'sym_mrna_no', 'sym_mrna2', 'sym_mrna2_up', 'sym_mrna2_dn', 'sym_mrna2_no', 'sym_ribo', 'sym_ribo_up', 'sym_ribo_dn', 'sym_ribo_no', 'sym_ribo2', 'sym_ribo2_up', 'sym_ribo2_dn', 'sym_ribo2_no', 'sym_mrna_up_ribo_no', 'sym_mrna_dn_ribo_no', 'sym_mrna_de_ribo_no', 'sym_mrna_only', 'sym_mrna_no_ribo_up', 'sym_mrna_no_ribo_dn', 'sym_mrna_no_ribo_de', 'sym_ribo_only', 'sym_mrna_up_ribo_up', 'sym_mrna_dn_ribo_dn', 'sym_mrna_up_ribo_dn', 'sym_mrna_dn_ribo_up', 'sym_mrna_up_cx_dn', 'sym_mrna_dn_cx_up', 'sym_mrna_dn3x_cx_no', 'sym_mrna_up_cx_up', 'sym_mrna_dn_cx_dn', 'sym_ribo_up_cx_dn', 'sym_ribo_dn_cx_up', 'sym_ribo_dn3x_cx_no', 'sym_ribo_up_cx_up', 'sym_ribo_dn_cx_dn', 'sym_ribo_cx_exclusively_affected', 'sym_ribo_cx_exclusively_affected_up', 'sym_ribo_cx_exclusively_affected_dn', 'sym_ribo_cx_unaffected', 'sym_mrna_no_ribo_up_cx_dn', 'sym_mrna_no_ribo_dn_cx_up', 'sym_mrna_no_ribo_up_cx_up', 'sym_mrna_no_ribo_dn_cx_dn', 'sym_mrna_no_ribo_de_cx_unaffected', 'sym_up_up_dn', 'sym_dn_dn_up']) \n",
      "\n",
      "Dimesnsion of the dataFrame df_all : (14577, 31) \n",
      "\n"
     ]
    },
    {
     "data": {
      "text/html": [
       "<div>\n",
       "<style scoped>\n",
       "    .dataframe tbody tr th:only-of-type {\n",
       "        vertical-align: middle;\n",
       "    }\n",
       "\n",
       "    .dataframe tbody tr th {\n",
       "        vertical-align: top;\n",
       "    }\n",
       "\n",
       "    .dataframe thead th {\n",
       "        text-align: right;\n",
       "    }\n",
       "</style>\n",
       "<table border=\"1\" class=\"dataframe\">\n",
       "  <thead>\n",
       "    <tr style=\"text-align: right;\">\n",
       "      <th></th>\n",
       "      <th>seqnames</th>\n",
       "      <th>start</th>\n",
       "      <th>end</th>\n",
       "      <th>width</th>\n",
       "      <th>strand</th>\n",
       "      <th>source</th>\n",
       "      <th>unt.transcription</th>\n",
       "      <th>tgfb.transcription</th>\n",
       "      <th>tgfbCX5461.transcription</th>\n",
       "      <th>log2FCuntVStgfb.transcription</th>\n",
       "      <th>...</th>\n",
       "      <th>log2FCuntVStgfb.translation</th>\n",
       "      <th>FDRuntVStgfb.translation</th>\n",
       "      <th>PuntVStgfb.translation</th>\n",
       "      <th>log2FCtgfbVStgfbCX5461.translation</th>\n",
       "      <th>FDRtgfbVStgfbCX5461.translation</th>\n",
       "      <th>PtgfbVStgfbCX5461.translation</th>\n",
       "      <th>unt.tgfb.DEtranslation</th>\n",
       "      <th>tgfb.tgfbCX5461.DEtranslation</th>\n",
       "      <th>reversible.translation</th>\n",
       "      <th>biotype</th>\n",
       "    </tr>\n",
       "    <tr>\n",
       "      <th>rownames</th>\n",
       "      <th></th>\n",
       "      <th></th>\n",
       "      <th></th>\n",
       "      <th></th>\n",
       "      <th></th>\n",
       "      <th></th>\n",
       "      <th></th>\n",
       "      <th></th>\n",
       "      <th></th>\n",
       "      <th></th>\n",
       "      <th></th>\n",
       "      <th></th>\n",
       "      <th></th>\n",
       "      <th></th>\n",
       "      <th></th>\n",
       "      <th></th>\n",
       "      <th></th>\n",
       "      <th></th>\n",
       "      <th></th>\n",
       "      <th></th>\n",
       "      <th></th>\n",
       "    </tr>\n",
       "  </thead>\n",
       "  <tbody>\n",
       "    <tr>\n",
       "      <th>0610009B22Rik</th>\n",
       "      <td>11</td>\n",
       "      <td>51576213</td>\n",
       "      <td>51579701</td>\n",
       "      <td>3489</td>\n",
       "      <td>-</td>\n",
       "      <td>ensembl_havana</td>\n",
       "      <td>-1.736193</td>\n",
       "      <td>-1.777777</td>\n",
       "      <td>-1.523371</td>\n",
       "      <td>-0.041584</td>\n",
       "      <td>...</td>\n",
       "      <td>-0.441428</td>\n",
       "      <td>0.305416</td>\n",
       "      <td>0.140368</td>\n",
       "      <td>1.021713</td>\n",
       "      <td>0.029191</td>\n",
       "      <td>0.002929</td>\n",
       "      <td>notSig</td>\n",
       "      <td>up</td>\n",
       "      <td>notSig</td>\n",
       "      <td>protein_coding</td>\n",
       "    </tr>\n",
       "    <tr>\n",
       "      <th>0610009E02Rik</th>\n",
       "      <td>2</td>\n",
       "      <td>26335708</td>\n",
       "      <td>26349402</td>\n",
       "      <td>13695</td>\n",
       "      <td>+</td>\n",
       "      <td>havana</td>\n",
       "      <td>-4.454228</td>\n",
       "      <td>-5.898426</td>\n",
       "      <td>-5.226594</td>\n",
       "      <td>-1.444199</td>\n",
       "      <td>...</td>\n",
       "      <td>NaN</td>\n",
       "      <td>NaN</td>\n",
       "      <td>NaN</td>\n",
       "      <td>NaN</td>\n",
       "      <td>NaN</td>\n",
       "      <td>NaN</td>\n",
       "      <td>NaN</td>\n",
       "      <td>NaN</td>\n",
       "      <td>NaN</td>\n",
       "      <td>lncRNA</td>\n",
       "    </tr>\n",
       "    <tr>\n",
       "      <th>0610009L18Rik</th>\n",
       "      <td>11</td>\n",
       "      <td>120239504</td>\n",
       "      <td>120242016</td>\n",
       "      <td>2513</td>\n",
       "      <td>+</td>\n",
       "      <td>ensembl_havana</td>\n",
       "      <td>-5.734851</td>\n",
       "      <td>-5.049821</td>\n",
       "      <td>-5.323179</td>\n",
       "      <td>0.685031</td>\n",
       "      <td>...</td>\n",
       "      <td>NaN</td>\n",
       "      <td>NaN</td>\n",
       "      <td>NaN</td>\n",
       "      <td>NaN</td>\n",
       "      <td>NaN</td>\n",
       "      <td>NaN</td>\n",
       "      <td>NaN</td>\n",
       "      <td>NaN</td>\n",
       "      <td>NaN</td>\n",
       "      <td>lncRNA</td>\n",
       "    </tr>\n",
       "    <tr>\n",
       "      <th>0610010F05Rik</th>\n",
       "      <td>11</td>\n",
       "      <td>23514961</td>\n",
       "      <td>23583639</td>\n",
       "      <td>68679</td>\n",
       "      <td>-</td>\n",
       "      <td>ensembl_havana</td>\n",
       "      <td>-0.544312</td>\n",
       "      <td>-0.182995</td>\n",
       "      <td>-0.579954</td>\n",
       "      <td>0.361317</td>\n",
       "      <td>...</td>\n",
       "      <td>0.325979</td>\n",
       "      <td>0.641233</td>\n",
       "      <td>0.453066</td>\n",
       "      <td>-0.786893</td>\n",
       "      <td>0.418001</td>\n",
       "      <td>0.183428</td>\n",
       "      <td>notSig</td>\n",
       "      <td>notSig</td>\n",
       "      <td>notSig</td>\n",
       "      <td>protein_coding</td>\n",
       "    </tr>\n",
       "    <tr>\n",
       "      <th>0610010K14Rik</th>\n",
       "      <td>11</td>\n",
       "      <td>70126032</td>\n",
       "      <td>70128740</td>\n",
       "      <td>2709</td>\n",
       "      <td>-</td>\n",
       "      <td>ensembl_havana</td>\n",
       "      <td>-1.082280</td>\n",
       "      <td>-1.739790</td>\n",
       "      <td>-1.857968</td>\n",
       "      <td>-0.657509</td>\n",
       "      <td>...</td>\n",
       "      <td>-1.434708</td>\n",
       "      <td>0.051680</td>\n",
       "      <td>0.011441</td>\n",
       "      <td>1.514110</td>\n",
       "      <td>0.077045</td>\n",
       "      <td>0.012849</td>\n",
       "      <td>notSig</td>\n",
       "      <td>notSig</td>\n",
       "      <td>notSig</td>\n",
       "      <td>protein_coding</td>\n",
       "    </tr>\n",
       "  </tbody>\n",
       "</table>\n",
       "<p>5 rows × 31 columns</p>\n",
       "</div>"
      ],
      "text/plain": [
       "              seqnames      start        end  width strand          source  \\\n",
       "rownames                                                                     \n",
       "0610009B22Rik       11   51576213   51579701   3489      -  ensembl_havana   \n",
       "0610009E02Rik        2   26335708   26349402  13695      +          havana   \n",
       "0610009L18Rik       11  120239504  120242016   2513      +  ensembl_havana   \n",
       "0610010F05Rik       11   23514961   23583639  68679      -  ensembl_havana   \n",
       "0610010K14Rik       11   70126032   70128740   2709      -  ensembl_havana   \n",
       "\n",
       "               unt.transcription  tgfb.transcription  \\\n",
       "rownames                                               \n",
       "0610009B22Rik          -1.736193           -1.777777   \n",
       "0610009E02Rik          -4.454228           -5.898426   \n",
       "0610009L18Rik          -5.734851           -5.049821   \n",
       "0610010F05Rik          -0.544312           -0.182995   \n",
       "0610010K14Rik          -1.082280           -1.739790   \n",
       "\n",
       "               tgfbCX5461.transcription  log2FCuntVStgfb.transcription  ...  \\\n",
       "rownames                                                                ...   \n",
       "0610009B22Rik                 -1.523371                      -0.041584  ...   \n",
       "0610009E02Rik                 -5.226594                      -1.444199  ...   \n",
       "0610009L18Rik                 -5.323179                       0.685031  ...   \n",
       "0610010F05Rik                 -0.579954                       0.361317  ...   \n",
       "0610010K14Rik                 -1.857968                      -0.657509  ...   \n",
       "\n",
       "               log2FCuntVStgfb.translation  FDRuntVStgfb.translation  \\\n",
       "rownames                                                               \n",
       "0610009B22Rik                    -0.441428                  0.305416   \n",
       "0610009E02Rik                          NaN                       NaN   \n",
       "0610009L18Rik                          NaN                       NaN   \n",
       "0610010F05Rik                     0.325979                  0.641233   \n",
       "0610010K14Rik                    -1.434708                  0.051680   \n",
       "\n",
       "               PuntVStgfb.translation  log2FCtgfbVStgfbCX5461.translation  \\\n",
       "rownames                                                                    \n",
       "0610009B22Rik                0.140368                            1.021713   \n",
       "0610009E02Rik                     NaN                                 NaN   \n",
       "0610009L18Rik                     NaN                                 NaN   \n",
       "0610010F05Rik                0.453066                           -0.786893   \n",
       "0610010K14Rik                0.011441                            1.514110   \n",
       "\n",
       "               FDRtgfbVStgfbCX5461.translation PtgfbVStgfbCX5461.translation  \\\n",
       "rownames                                                                       \n",
       "0610009B22Rik                         0.029191                      0.002929   \n",
       "0610009E02Rik                              NaN                           NaN   \n",
       "0610009L18Rik                              NaN                           NaN   \n",
       "0610010F05Rik                         0.418001                      0.183428   \n",
       "0610010K14Rik                         0.077045                      0.012849   \n",
       "\n",
       "              unt.tgfb.DEtranslation tgfb.tgfbCX5461.DEtranslation  \\\n",
       "rownames                                                             \n",
       "0610009B22Rik                 notSig                            up   \n",
       "0610009E02Rik                    NaN                           NaN   \n",
       "0610009L18Rik                    NaN                           NaN   \n",
       "0610010F05Rik                 notSig                        notSig   \n",
       "0610010K14Rik                 notSig                        notSig   \n",
       "\n",
       "               reversible.translation         biotype  \n",
       "rownames                                               \n",
       "0610009B22Rik                  notSig  protein_coding  \n",
       "0610009E02Rik                     NaN          lncRNA  \n",
       "0610009L18Rik                     NaN          lncRNA  \n",
       "0610010F05Rik                  notSig  protein_coding  \n",
       "0610010K14Rik                  notSig  protein_coding  \n",
       "\n",
       "[5 rows x 31 columns]"
      ]
     },
     "execution_count": 2,
     "metadata": {},
     "output_type": "execute_result"
    }
   ],
   "source": [
    "#Ribo =  pd.read_csv('C:/Users/nmishra/Dropbox/PC/Desktop/Total RNAseq EMT/jupyter codes/out/limma-voom.mrna/161021.rdna_rn18s/NMuMG/blancgrp_161021_Riboseq.unt48--vs--tgfb48.diff-all.txt', sep=\"\\t\", na_filter=True, index_col=0)\n",
    "\n",
    "\n",
    "print('Load R workspace image (.RData) file in Python\\n')\n",
    "result = pyreadr.read_r('C:/Users/nmishra/Dropbox/PC/Desktop/Total RNAseq EMT/jupyter codes/rdata/riboprof_170224.rdna_rn18s_161021.rdna_rn18s_limma-voom.mrna.rdata') # by using pyreadr\n",
    "print('Name of all files/function/variables in Rdata image\\n')\n",
    "print(result.keys(), '\\n') # Name of all files/function/variables in Rdata image\n",
    "\n",
    "df_all = result[\"df_all\"]\n",
    "\n",
    "print('Dimesnsion of the dataFrame df_all :', df_all.shape,\"\\n\")\n",
    "df_all.head()"
   ]
  },
  {
   "cell_type": "markdown",
   "id": "761c80f9-9dc0-49ff-a951-cc40a373bfb6",
   "metadata": {},
   "source": [
    "### Filter"
   ]
  },
  {
   "cell_type": "code",
   "execution_count": 3,
   "id": "d127ae75-ced3-4796-b62c-477cd2dc49ed",
   "metadata": {},
   "outputs": [
    {
     "name": "stdout",
     "output_type": "stream",
     "text": [
      "(11452, 13)\n"
     ]
    }
   ],
   "source": [
    "df = ( df_all >>\n",
    "  mask(df_all.biotype =='protein_coding')) #>>\n",
    " # mask(df_all. == 'up'))\n",
    "\n",
    "df = df.filter(regex=r'translation|biotype')\n",
    "df = df.dropna(how='all')\n",
    "print(df.shape)"
   ]
  },
  {
   "cell_type": "code",
   "execution_count": 4,
   "id": "251dcefe-5420-44db-9db9-c6a09649abda",
   "metadata": {},
   "outputs": [
    {
     "name": "stdout",
     "output_type": "stream",
     "text": [
      "Dimesnsion of the dataFrame df_ribo : (2251, 13) \n",
      "\n"
     ]
    },
    {
     "data": {
      "text/html": [
       "<div>\n",
       "<style scoped>\n",
       "    .dataframe tbody tr th:only-of-type {\n",
       "        vertical-align: middle;\n",
       "    }\n",
       "\n",
       "    .dataframe tbody tr th {\n",
       "        vertical-align: top;\n",
       "    }\n",
       "\n",
       "    .dataframe thead th {\n",
       "        text-align: right;\n",
       "    }\n",
       "</style>\n",
       "<table border=\"1\" class=\"dataframe\">\n",
       "  <thead>\n",
       "    <tr style=\"text-align: right;\">\n",
       "      <th></th>\n",
       "      <th>unt.translation</th>\n",
       "      <th>tgfb.translation</th>\n",
       "      <th>tgfbCX5461.translation</th>\n",
       "      <th>log2FCuntVStgfb.translation</th>\n",
       "      <th>FDRuntVStgfb.translation</th>\n",
       "      <th>PuntVStgfb.translation</th>\n",
       "      <th>log2FCtgfbVStgfbCX5461.translation</th>\n",
       "      <th>FDRtgfbVStgfbCX5461.translation</th>\n",
       "      <th>PtgfbVStgfbCX5461.translation</th>\n",
       "      <th>unt.tgfb.DEtranslation</th>\n",
       "      <th>tgfb.tgfbCX5461.DEtranslation</th>\n",
       "      <th>reversible.translation</th>\n",
       "      <th>biotype</th>\n",
       "    </tr>\n",
       "    <tr>\n",
       "      <th>rownames</th>\n",
       "      <th></th>\n",
       "      <th></th>\n",
       "      <th></th>\n",
       "      <th></th>\n",
       "      <th></th>\n",
       "      <th></th>\n",
       "      <th></th>\n",
       "      <th></th>\n",
       "      <th></th>\n",
       "      <th></th>\n",
       "      <th></th>\n",
       "      <th></th>\n",
       "      <th></th>\n",
       "    </tr>\n",
       "  </thead>\n",
       "  <tbody>\n",
       "    <tr>\n",
       "      <th>1110059E24Rik</th>\n",
       "      <td>0.130632</td>\n",
       "      <td>-0.864735</td>\n",
       "      <td>-0.128991</td>\n",
       "      <td>-0.995367</td>\n",
       "      <td>0.020046</td>\n",
       "      <td>3.401256e-03</td>\n",
       "      <td>0.735744</td>\n",
       "      <td>0.191271</td>\n",
       "      <td>0.050105</td>\n",
       "      <td>down</td>\n",
       "      <td>notSig</td>\n",
       "      <td>notSig</td>\n",
       "      <td>protein_coding</td>\n",
       "    </tr>\n",
       "    <tr>\n",
       "      <th>1500011B03Rik</th>\n",
       "      <td>-0.639762</td>\n",
       "      <td>-2.075295</td>\n",
       "      <td>-2.066243</td>\n",
       "      <td>-1.435533</td>\n",
       "      <td>0.023523</td>\n",
       "      <td>4.134801e-03</td>\n",
       "      <td>0.009053</td>\n",
       "      <td>0.994791</td>\n",
       "      <td>0.988987</td>\n",
       "      <td>down</td>\n",
       "      <td>notSig</td>\n",
       "      <td>notSig</td>\n",
       "      <td>protein_coding</td>\n",
       "    </tr>\n",
       "    <tr>\n",
       "      <th>1700017B05Rik</th>\n",
       "      <td>0.936590</td>\n",
       "      <td>2.012075</td>\n",
       "      <td>1.762969</td>\n",
       "      <td>1.075485</td>\n",
       "      <td>0.000011</td>\n",
       "      <td>4.984000e-07</td>\n",
       "      <td>-0.249106</td>\n",
       "      <td>0.366474</td>\n",
       "      <td>0.147714</td>\n",
       "      <td>up</td>\n",
       "      <td>notSig</td>\n",
       "      <td>notSig</td>\n",
       "      <td>protein_coding</td>\n",
       "    </tr>\n",
       "    <tr>\n",
       "      <th>1700037H04Rik</th>\n",
       "      <td>0.156265</td>\n",
       "      <td>-1.148583</td>\n",
       "      <td>-0.414341</td>\n",
       "      <td>-1.304848</td>\n",
       "      <td>0.016142</td>\n",
       "      <td>2.579154e-03</td>\n",
       "      <td>0.734242</td>\n",
       "      <td>0.332111</td>\n",
       "      <td>0.125227</td>\n",
       "      <td>down</td>\n",
       "      <td>notSig</td>\n",
       "      <td>notSig</td>\n",
       "      <td>protein_coding</td>\n",
       "    </tr>\n",
       "    <tr>\n",
       "      <th>2200002D01Rik</th>\n",
       "      <td>2.057251</td>\n",
       "      <td>1.513171</td>\n",
       "      <td>2.321169</td>\n",
       "      <td>-0.544080</td>\n",
       "      <td>0.009851</td>\n",
       "      <td>1.400784e-03</td>\n",
       "      <td>0.807998</td>\n",
       "      <td>0.001713</td>\n",
       "      <td>0.000069</td>\n",
       "      <td>down</td>\n",
       "      <td>up</td>\n",
       "      <td>downUp</td>\n",
       "      <td>protein_coding</td>\n",
       "    </tr>\n",
       "  </tbody>\n",
       "</table>\n",
       "</div>"
      ],
      "text/plain": [
       "               unt.translation  tgfb.translation  tgfbCX5461.translation  \\\n",
       "rownames                                                                   \n",
       "1110059E24Rik         0.130632         -0.864735               -0.128991   \n",
       "1500011B03Rik        -0.639762         -2.075295               -2.066243   \n",
       "1700017B05Rik         0.936590          2.012075                1.762969   \n",
       "1700037H04Rik         0.156265         -1.148583               -0.414341   \n",
       "2200002D01Rik         2.057251          1.513171                2.321169   \n",
       "\n",
       "               log2FCuntVStgfb.translation  FDRuntVStgfb.translation  \\\n",
       "rownames                                                               \n",
       "1110059E24Rik                    -0.995367                  0.020046   \n",
       "1500011B03Rik                    -1.435533                  0.023523   \n",
       "1700017B05Rik                     1.075485                  0.000011   \n",
       "1700037H04Rik                    -1.304848                  0.016142   \n",
       "2200002D01Rik                    -0.544080                  0.009851   \n",
       "\n",
       "               PuntVStgfb.translation  log2FCtgfbVStgfbCX5461.translation  \\\n",
       "rownames                                                                    \n",
       "1110059E24Rik            3.401256e-03                            0.735744   \n",
       "1500011B03Rik            4.134801e-03                            0.009053   \n",
       "1700017B05Rik            4.984000e-07                           -0.249106   \n",
       "1700037H04Rik            2.579154e-03                            0.734242   \n",
       "2200002D01Rik            1.400784e-03                            0.807998   \n",
       "\n",
       "               FDRtgfbVStgfbCX5461.translation  PtgfbVStgfbCX5461.translation  \\\n",
       "rownames                                                                        \n",
       "1110059E24Rik                         0.191271                       0.050105   \n",
       "1500011B03Rik                         0.994791                       0.988987   \n",
       "1700017B05Rik                         0.366474                       0.147714   \n",
       "1700037H04Rik                         0.332111                       0.125227   \n",
       "2200002D01Rik                         0.001713                       0.000069   \n",
       "\n",
       "              unt.tgfb.DEtranslation tgfb.tgfbCX5461.DEtranslation  \\\n",
       "rownames                                                             \n",
       "1110059E24Rik                   down                        notSig   \n",
       "1500011B03Rik                   down                        notSig   \n",
       "1700017B05Rik                     up                        notSig   \n",
       "1700037H04Rik                   down                        notSig   \n",
       "2200002D01Rik                   down                            up   \n",
       "\n",
       "              reversible.translation         biotype  \n",
       "rownames                                              \n",
       "1110059E24Rik                 notSig  protein_coding  \n",
       "1500011B03Rik                 notSig  protein_coding  \n",
       "1700017B05Rik                 notSig  protein_coding  \n",
       "1700037H04Rik                 notSig  protein_coding  \n",
       "2200002D01Rik                 downUp  protein_coding  "
      ]
     },
     "execution_count": 4,
     "metadata": {},
     "output_type": "execute_result"
    }
   ],
   "source": [
    "df_ribo = df[(df['unt.tgfb.DEtranslation'] == 'up') | (df['unt.tgfb.DEtranslation'] == 'down')]\n",
    "\n",
    "print('Dimesnsion of the dataFrame df_ribo :', df_ribo.shape, '\\n')\n",
    "df_ribo.head()"
   ]
  },
  {
   "cell_type": "code",
   "execution_count": 5,
   "id": "f6047fa0-0efb-4bd1-bbfb-f2f0b14c8034",
   "metadata": {},
   "outputs": [
    {
     "name": "stdout",
     "output_type": "stream",
     "text": [
      "reversible.translation\n",
      "notSig                    1688\n",
      "upDown                     301\n",
      "downUp                     262\n",
      "dtype: int64\n",
      "Number of genes in upDown in Unt Vs. TGFb Ribo-seq : 301\n",
      "Number of genes in downUp in Unt Vs. TGFb Ribo-seq : 262\n"
     ]
    }
   ],
   "source": [
    "print(df_ribo[['reversible.translation']].value_counts())\n",
    "unt_tgfb_ribo_upDown = df_ribo[(df_ribo['reversible.translation'] == 'upDown')].index\n",
    "unt_tgfb_ribo_downUp = df_ribo[(df_ribo['reversible.translation'] == 'downUp')].index\n",
    "print('Number of genes in upDown in Unt Vs. TGFb Ribo-seq :',len(unt_tgfb_ribo_upDown))\n",
    "print('Number of genes in downUp in Unt Vs. TGFb Ribo-seq :',len(unt_tgfb_ribo_downUp))"
   ]
  },
  {
   "cell_type": "markdown",
   "id": "c0cc2667-dce0-4e09-a02d-587712e3261a",
   "metadata": {},
   "source": [
    "## Total input proteomics data"
   ]
  },
  {
   "cell_type": "markdown",
   "id": "9ef1ba8c-f254-4e5e-b757-fd5fa9813acc",
   "metadata": {},
   "source": [
    "### Load"
   ]
  },
  {
   "cell_type": "code",
   "execution_count": 6,
   "id": "f1108877-bc03-4362-9cb7-01f6a1be5bdd",
   "metadata": {},
   "outputs": [
    {
     "name": "stdout",
     "output_type": "stream",
     "text": [
      "Dimesnsion of the dataFrame data_proteomics : (9954, 20)\n"
     ]
    },
    {
     "data": {
      "text/html": [
       "<div>\n",
       "<style scoped>\n",
       "    .dataframe tbody tr th:only-of-type {\n",
       "        vertical-align: middle;\n",
       "    }\n",
       "\n",
       "    .dataframe tbody tr th {\n",
       "        vertical-align: top;\n",
       "    }\n",
       "\n",
       "    .dataframe thead th {\n",
       "        text-align: right;\n",
       "    }\n",
       "</style>\n",
       "<table border=\"1\" class=\"dataframe\">\n",
       "  <thead>\n",
       "    <tr style=\"text-align: right;\">\n",
       "      <th></th>\n",
       "      <th>WPG</th>\n",
       "      <th>Protein Accession #</th>\n",
       "      <th>Annotation</th>\n",
       "      <th>PSM#</th>\n",
       "      <th>Peptide#</th>\n",
       "      <th>%Coverage</th>\n",
       "      <th>US1</th>\n",
       "      <th>US3</th>\n",
       "      <th>TGFB1</th>\n",
       "      <th>TGFB2</th>\n",
       "      <th>TGFB3</th>\n",
       "      <th>TCX1</th>\n",
       "      <th>TCX2</th>\n",
       "      <th>TCX3</th>\n",
       "      <th>log2(TGFB/US)</th>\n",
       "      <th>log2(TCX/TGFB)</th>\n",
       "      <th>log2(TCX/US)</th>\n",
       "      <th>p value</th>\n",
       "      <th>FDR</th>\n",
       "      <th>DE</th>\n",
       "    </tr>\n",
       "    <tr>\n",
       "      <th>Gene name</th>\n",
       "      <th></th>\n",
       "      <th></th>\n",
       "      <th></th>\n",
       "      <th></th>\n",
       "      <th></th>\n",
       "      <th></th>\n",
       "      <th></th>\n",
       "      <th></th>\n",
       "      <th></th>\n",
       "      <th></th>\n",
       "      <th></th>\n",
       "      <th></th>\n",
       "      <th></th>\n",
       "      <th></th>\n",
       "      <th></th>\n",
       "      <th></th>\n",
       "      <th></th>\n",
       "      <th></th>\n",
       "      <th></th>\n",
       "      <th></th>\n",
       "    </tr>\n",
       "  </thead>\n",
       "  <tbody>\n",
       "    <tr>\n",
       "      <th>1700074P13Rik</th>\n",
       "      <td>1.0</td>\n",
       "      <td>tr|Q9D9G7|Q9D9G7_MOUSE</td>\n",
       "      <td>1700074P13Rik protein OS=Mus musculus OX=10090...</td>\n",
       "      <td>2</td>\n",
       "      <td>1</td>\n",
       "      <td>2.79</td>\n",
       "      <td>45129.60598</td>\n",
       "      <td>62192.80832</td>\n",
       "      <td>61705.47489</td>\n",
       "      <td>47032.33455</td>\n",
       "      <td>48378.97872</td>\n",
       "      <td>99010.36258</td>\n",
       "      <td>79842.93415</td>\n",
       "      <td>122635.0847</td>\n",
       "      <td>-0.028</td>\n",
       "      <td>0.929</td>\n",
       "      <td>0.902</td>\n",
       "      <td>0.003340</td>\n",
       "      <td>0.005880</td>\n",
       "      <td>yes</td>\n",
       "    </tr>\n",
       "    <tr>\n",
       "      <th>Abhd4</th>\n",
       "      <td>1.0</td>\n",
       "      <td>sp|Q8VD66|ABHD4_MOUSE</td>\n",
       "      <td>(Lyso)-N-acylphosphatidylethanolamine lipase O...</td>\n",
       "      <td>26</td>\n",
       "      <td>9</td>\n",
       "      <td>24.85</td>\n",
       "      <td>95501.20960</td>\n",
       "      <td>96964.84172</td>\n",
       "      <td>99126.16312</td>\n",
       "      <td>104196.90090</td>\n",
       "      <td>101342.07630</td>\n",
       "      <td>124691.90070</td>\n",
       "      <td>129480.36870</td>\n",
       "      <td>125266.9962</td>\n",
       "      <td>0.077</td>\n",
       "      <td>0.317</td>\n",
       "      <td>0.394</td>\n",
       "      <td>0.000015</td>\n",
       "      <td>0.000065</td>\n",
       "      <td>yes</td>\n",
       "    </tr>\n",
       "    <tr>\n",
       "      <th>Aldh3b1</th>\n",
       "      <td>1.0</td>\n",
       "      <td>sp|Q80VQ0|AL3B1_MOUSE</td>\n",
       "      <td>Aldehyde dehydrogenase family 3 member B1 OS=M...</td>\n",
       "      <td>36</td>\n",
       "      <td>16</td>\n",
       "      <td>36.32</td>\n",
       "      <td>241687.43080</td>\n",
       "      <td>256418.97760</td>\n",
       "      <td>214828.74550</td>\n",
       "      <td>215537.35280</td>\n",
       "      <td>218774.40590</td>\n",
       "      <td>264484.81330</td>\n",
       "      <td>254700.61290</td>\n",
       "      <td>272113.6846</td>\n",
       "      <td>-0.202</td>\n",
       "      <td>0.285</td>\n",
       "      <td>0.083</td>\n",
       "      <td>0.000315</td>\n",
       "      <td>0.000773</td>\n",
       "      <td>yes</td>\n",
       "    </tr>\n",
       "    <tr>\n",
       "      <th>Arap2</th>\n",
       "      <td>1.0</td>\n",
       "      <td>sp|Q8BZ05|ARAP2_MOUSE</td>\n",
       "      <td>Arf-GAP with Rho-GAP domain, ANK repeat and PH...</td>\n",
       "      <td>4</td>\n",
       "      <td>4</td>\n",
       "      <td>2.06</td>\n",
       "      <td>39475.59101</td>\n",
       "      <td>39992.94682</td>\n",
       "      <td>36075.25752</td>\n",
       "      <td>39910.01929</td>\n",
       "      <td>39704.68638</td>\n",
       "      <td>47998.83336</td>\n",
       "      <td>46593.49130</td>\n",
       "      <td>45744.0982</td>\n",
       "      <td>-0.045</td>\n",
       "      <td>0.280</td>\n",
       "      <td>0.235</td>\n",
       "      <td>0.001040</td>\n",
       "      <td>0.002120</td>\n",
       "      <td>yes</td>\n",
       "    </tr>\n",
       "    <tr>\n",
       "      <th>Arsb</th>\n",
       "      <td>1.0</td>\n",
       "      <td>sp|P50429|ARSB_MOUSE</td>\n",
       "      <td>Arylsulfatase B OS=Mus musculus OX=10090 GN=Ar...</td>\n",
       "      <td>23</td>\n",
       "      <td>13</td>\n",
       "      <td>24.34</td>\n",
       "      <td>138375.06090</td>\n",
       "      <td>134297.79660</td>\n",
       "      <td>172070.99200</td>\n",
       "      <td>141877.23570</td>\n",
       "      <td>137654.43720</td>\n",
       "      <td>183534.65810</td>\n",
       "      <td>191849.66500</td>\n",
       "      <td>182141.6578</td>\n",
       "      <td>0.136</td>\n",
       "      <td>0.311</td>\n",
       "      <td>0.447</td>\n",
       "      <td>0.003750</td>\n",
       "      <td>0.006500</td>\n",
       "      <td>yes</td>\n",
       "    </tr>\n",
       "  </tbody>\n",
       "</table>\n",
       "</div>"
      ],
      "text/plain": [
       "               WPG     Protein Accession #  \\\n",
       "Gene name                                    \n",
       "1700074P13Rik  1.0  tr|Q9D9G7|Q9D9G7_MOUSE   \n",
       "Abhd4          1.0   sp|Q8VD66|ABHD4_MOUSE   \n",
       "Aldh3b1        1.0   sp|Q80VQ0|AL3B1_MOUSE   \n",
       "Arap2          1.0   sp|Q8BZ05|ARAP2_MOUSE   \n",
       "Arsb           1.0    sp|P50429|ARSB_MOUSE   \n",
       "\n",
       "                                                      Annotation  PSM#  \\\n",
       "Gene name                                                                \n",
       "1700074P13Rik  1700074P13Rik protein OS=Mus musculus OX=10090...     2   \n",
       "Abhd4          (Lyso)-N-acylphosphatidylethanolamine lipase O...    26   \n",
       "Aldh3b1        Aldehyde dehydrogenase family 3 member B1 OS=M...    36   \n",
       "Arap2          Arf-GAP with Rho-GAP domain, ANK repeat and PH...     4   \n",
       "Arsb           Arylsulfatase B OS=Mus musculus OX=10090 GN=Ar...    23   \n",
       "\n",
       "               Peptide#  %Coverage           US1           US3         TGFB1  \\\n",
       "Gene name                                                                      \n",
       "1700074P13Rik         1       2.79   45129.60598   62192.80832   61705.47489   \n",
       "Abhd4                 9      24.85   95501.20960   96964.84172   99126.16312   \n",
       "Aldh3b1              16      36.32  241687.43080  256418.97760  214828.74550   \n",
       "Arap2                 4       2.06   39475.59101   39992.94682   36075.25752   \n",
       "Arsb                 13      24.34  138375.06090  134297.79660  172070.99200   \n",
       "\n",
       "                      TGFB2         TGFB3          TCX1          TCX2  \\\n",
       "Gene name                                                               \n",
       "1700074P13Rik   47032.33455   48378.97872   99010.36258   79842.93415   \n",
       "Abhd4          104196.90090  101342.07630  124691.90070  129480.36870   \n",
       "Aldh3b1        215537.35280  218774.40590  264484.81330  254700.61290   \n",
       "Arap2           39910.01929   39704.68638   47998.83336   46593.49130   \n",
       "Arsb           141877.23570  137654.43720  183534.65810  191849.66500   \n",
       "\n",
       "                      TCX3  log2(TGFB/US)  log2(TCX/TGFB)  log2(TCX/US)  \\\n",
       "Gene name                                                                 \n",
       "1700074P13Rik  122635.0847         -0.028           0.929         0.902   \n",
       "Abhd4          125266.9962          0.077           0.317         0.394   \n",
       "Aldh3b1        272113.6846         -0.202           0.285         0.083   \n",
       "Arap2           45744.0982         -0.045           0.280         0.235   \n",
       "Arsb           182141.6578          0.136           0.311         0.447   \n",
       "\n",
       "                p value       FDR   DE  \n",
       "Gene name                               \n",
       "1700074P13Rik  0.003340  0.005880  yes  \n",
       "Abhd4          0.000015  0.000065  yes  \n",
       "Aldh3b1        0.000315  0.000773  yes  \n",
       "Arap2          0.001040  0.002120  yes  \n",
       "Arsb           0.003750  0.006500  yes  "
      ]
     },
     "execution_count": 6,
     "metadata": {},
     "output_type": "execute_result"
    }
   ],
   "source": [
    "data_proteomics =  pd.read_csv('C:/Users/nmishra/Dropbox/PC/Desktop/Polysomes RNAseq EMT/jupyter codes/Blancgrp_EMT_1Whole_Proteome_TMT_3totalcells_quick_lysis_v4.6.txt', sep=\"\\t\", na_filter=True, index_col=1) #Either I will use index_col=1 or data.set_index('Gene name')\n",
    "#data = data.set_index('Gene name')\n",
    "data_proteomics = data_proteomics.dropna(axis='columns', how ='all')\n",
    "data_proteomics = data_proteomics[data_proteomics.index.notnull()]\n",
    "print('Dimesnsion of the dataFrame data_proteomics :', data_proteomics.shape)\n",
    "data_proteomics.head()"
   ]
  },
  {
   "cell_type": "code",
   "execution_count": 7,
   "id": "6f0f8ccd-cad9-4eec-9815-ebbc33ede6a3",
   "metadata": {},
   "outputs": [
    {
     "data": {
      "text/plain": [
       "yes    5085\n",
       "no     4869\n",
       "Name: DE, dtype: int64"
      ]
     },
     "execution_count": 7,
     "metadata": {},
     "output_type": "execute_result"
    }
   ],
   "source": [
    "data_proteomics.DE.value_counts()"
   ]
  },
  {
   "cell_type": "markdown",
   "id": "2941b04a-74da-4f0e-8464-eb30691ee67a",
   "metadata": {},
   "source": [
    "### Filter"
   ]
  },
  {
   "cell_type": "code",
   "execution_count": 8,
   "id": "ddabeadc-cd94-4d13-a06f-77f2faccde34",
   "metadata": {},
   "outputs": [
    {
     "name": "stdout",
     "output_type": "stream",
     "text": [
      "Dimesnsion of the dataFrame df_proteomics : (4589, 20)\n"
     ]
    }
   ],
   "source": [
    "data = data_proteomics.sort_values(by=['log2(TGFB/US)'], ascending=False)\n",
    "data = (data >>\n",
    " mask(data.DE =='yes'))\n",
    "\n",
    "data = data[~data.index.duplicated(keep='first')] # Remove duplicated genes\n",
    "data.keys()\n",
    "df_proteomics_TGFb = data[abs(data['log2(TGFB/US)']) > 0.26]\n",
    "print('Dimesnsion of the dataFrame df_proteomics :', df_proteomics_TGFb.shape)"
   ]
  },
  {
   "cell_type": "markdown",
   "id": "e0796502-a83c-47ed-a1c0-4b5fd206f351",
   "metadata": {},
   "source": [
    "## Venn diagram"
   ]
  },
  {
   "cell_type": "code",
   "execution_count": 9,
   "id": "d71fe581-184f-4380-8652-44d90d245a5c",
   "metadata": {},
   "outputs": [
    {
     "data": {
      "image/png": "[encoded data removed]",
      "text/plain": [
       "<Figure size 500x500 with 1 Axes>"
      ]
     },
     "metadata": {},
     "output_type": "display_data"
    }
   ],
   "source": [
    "# Create the Series\n",
    "set1 = set(df_ribo.index)\n",
    "set2 = set(df_proteomics_TGFb.index)\n",
    "\n",
    "#set_array = []\n",
    "#set_names = ['Ribo-seq', 'Proteomics']\n",
    "\n",
    "\n",
    "#set_array.append(set1)\n",
    "#set_array.append(set2)\n",
    "\n",
    "#venn2([set1, set2], ('Ribo-seq', 'Proteomics')) # venn2 works for two sets\n",
    "#venn3(set_array[0:3], set_names[0:3])   # venn3 works for three sets\n",
    "#plt.show()\n",
    "\n",
    "\n",
    "plt.rcParams['figure.figsize'] = [5, 5] # plt.figure plot very big file if dpi is over 100\n",
    "venn2([set1, set2], ('Ribo-seq', 'Proteomics')) # venn2 works for two sets\n",
    "#fig.savefig('Venn diagram.pdf')\n",
    "plt.savefig('./tiff/Venn diagram Unt Vs TGFb Ribo-seq and total input proteomics.tiff', dpi=500)\n",
    "plt.savefig('./pdf/Venn diagram Unt Vs TGFb Ribo-seq and total input proteomics.pdf', dpi=500)"
   ]
  },
  {
   "cell_type": "markdown",
   "id": "1543410b-b307-4a76-be09-f609ef5e8715",
   "metadata": {},
   "source": [
    "# TGF𝛽 Vs. CX5461 Ribo-seq/total input proteomics"
   ]
  },
  {
   "cell_type": "markdown",
   "id": "c801cb12-01f9-4328-b43f-f9cc86e6cce8",
   "metadata": {},
   "source": [
    "## Ribo-seq data"
   ]
  },
  {
   "cell_type": "code",
   "execution_count": 10,
   "id": "e601a72f-80da-4ddb-9fd8-5deb48ec547d",
   "metadata": {},
   "outputs": [
    {
     "name": "stdout",
     "output_type": "stream",
     "text": [
      "Dimesnsion of the dataFrame df_ribo : (1188, 13) \n",
      "\n"
     ]
    },
    {
     "data": {
      "text/html": [
       "<div>\n",
       "<style scoped>\n",
       "    .dataframe tbody tr th:only-of-type {\n",
       "        vertical-align: middle;\n",
       "    }\n",
       "\n",
       "    .dataframe tbody tr th {\n",
       "        vertical-align: top;\n",
       "    }\n",
       "\n",
       "    .dataframe thead th {\n",
       "        text-align: right;\n",
       "    }\n",
       "</style>\n",
       "<table border=\"1\" class=\"dataframe\">\n",
       "  <thead>\n",
       "    <tr style=\"text-align: right;\">\n",
       "      <th></th>\n",
       "      <th>unt.translation</th>\n",
       "      <th>tgfb.translation</th>\n",
       "      <th>tgfbCX5461.translation</th>\n",
       "      <th>log2FCuntVStgfb.translation</th>\n",
       "      <th>FDRuntVStgfb.translation</th>\n",
       "      <th>PuntVStgfb.translation</th>\n",
       "      <th>log2FCtgfbVStgfbCX5461.translation</th>\n",
       "      <th>FDRtgfbVStgfbCX5461.translation</th>\n",
       "      <th>PtgfbVStgfbCX5461.translation</th>\n",
       "      <th>unt.tgfb.DEtranslation</th>\n",
       "      <th>tgfb.tgfbCX5461.DEtranslation</th>\n",
       "      <th>reversible.translation</th>\n",
       "      <th>biotype</th>\n",
       "    </tr>\n",
       "    <tr>\n",
       "      <th>rownames</th>\n",
       "      <th></th>\n",
       "      <th></th>\n",
       "      <th></th>\n",
       "      <th></th>\n",
       "      <th></th>\n",
       "      <th></th>\n",
       "      <th></th>\n",
       "      <th></th>\n",
       "      <th></th>\n",
       "      <th></th>\n",
       "      <th></th>\n",
       "      <th></th>\n",
       "      <th></th>\n",
       "    </tr>\n",
       "  </thead>\n",
       "  <tbody>\n",
       "    <tr>\n",
       "      <th>0610009B22Rik</th>\n",
       "      <td>-0.120930</td>\n",
       "      <td>-0.562358</td>\n",
       "      <td>0.459355</td>\n",
       "      <td>-0.441428</td>\n",
       "      <td>0.305416</td>\n",
       "      <td>0.140368</td>\n",
       "      <td>1.021713</td>\n",
       "      <td>0.029191</td>\n",
       "      <td>0.002929</td>\n",
       "      <td>notSig</td>\n",
       "      <td>up</td>\n",
       "      <td>notSig</td>\n",
       "      <td>protein_coding</td>\n",
       "    </tr>\n",
       "    <tr>\n",
       "      <th>1810013L24Rik</th>\n",
       "      <td>1.788917</td>\n",
       "      <td>1.981210</td>\n",
       "      <td>2.870199</td>\n",
       "      <td>0.192293</td>\n",
       "      <td>0.367281</td>\n",
       "      <td>0.187310</td>\n",
       "      <td>0.888989</td>\n",
       "      <td>0.000113</td>\n",
       "      <td>0.000002</td>\n",
       "      <td>notSig</td>\n",
       "      <td>up</td>\n",
       "      <td>notSig</td>\n",
       "      <td>protein_coding</td>\n",
       "    </tr>\n",
       "    <tr>\n",
       "      <th>2200002D01Rik</th>\n",
       "      <td>2.057251</td>\n",
       "      <td>1.513171</td>\n",
       "      <td>2.321169</td>\n",
       "      <td>-0.544080</td>\n",
       "      <td>0.009851</td>\n",
       "      <td>0.001401</td>\n",
       "      <td>0.807998</td>\n",
       "      <td>0.001713</td>\n",
       "      <td>0.000069</td>\n",
       "      <td>down</td>\n",
       "      <td>up</td>\n",
       "      <td>downUp</td>\n",
       "      <td>protein_coding</td>\n",
       "    </tr>\n",
       "    <tr>\n",
       "      <th>2310030G06Rik</th>\n",
       "      <td>-0.805478</td>\n",
       "      <td>-0.165200</td>\n",
       "      <td>0.917421</td>\n",
       "      <td>0.640278</td>\n",
       "      <td>0.170312</td>\n",
       "      <td>0.058796</td>\n",
       "      <td>1.082621</td>\n",
       "      <td>0.014544</td>\n",
       "      <td>0.001122</td>\n",
       "      <td>notSig</td>\n",
       "      <td>up</td>\n",
       "      <td>notSig</td>\n",
       "      <td>protein_coding</td>\n",
       "    </tr>\n",
       "    <tr>\n",
       "      <th>4930503L19Rik</th>\n",
       "      <td>-2.569610</td>\n",
       "      <td>-4.379670</td>\n",
       "      <td>-0.901781</td>\n",
       "      <td>-1.810060</td>\n",
       "      <td>0.186930</td>\n",
       "      <td>0.067228</td>\n",
       "      <td>3.477889</td>\n",
       "      <td>0.011334</td>\n",
       "      <td>0.000802</td>\n",
       "      <td>notSig</td>\n",
       "      <td>up</td>\n",
       "      <td>notSig</td>\n",
       "      <td>protein_coding</td>\n",
       "    </tr>\n",
       "  </tbody>\n",
       "</table>\n",
       "</div>"
      ],
      "text/plain": [
       "               unt.translation  tgfb.translation  tgfbCX5461.translation  \\\n",
       "rownames                                                                   \n",
       "0610009B22Rik        -0.120930         -0.562358                0.459355   \n",
       "1810013L24Rik         1.788917          1.981210                2.870199   \n",
       "2200002D01Rik         2.057251          1.513171                2.321169   \n",
       "2310030G06Rik        -0.805478         -0.165200                0.917421   \n",
       "4930503L19Rik        -2.569610         -4.379670               -0.901781   \n",
       "\n",
       "               log2FCuntVStgfb.translation  FDRuntVStgfb.translation  \\\n",
       "rownames                                                               \n",
       "0610009B22Rik                    -0.441428                  0.305416   \n",
       "1810013L24Rik                     0.192293                  0.367281   \n",
       "2200002D01Rik                    -0.544080                  0.009851   \n",
       "2310030G06Rik                     0.640278                  0.170312   \n",
       "4930503L19Rik                    -1.810060                  0.186930   \n",
       "\n",
       "               PuntVStgfb.translation  log2FCtgfbVStgfbCX5461.translation  \\\n",
       "rownames                                                                    \n",
       "0610009B22Rik                0.140368                            1.021713   \n",
       "1810013L24Rik                0.187310                            0.888989   \n",
       "2200002D01Rik                0.001401                            0.807998   \n",
       "2310030G06Rik                0.058796                            1.082621   \n",
       "4930503L19Rik                0.067228                            3.477889   \n",
       "\n",
       "               FDRtgfbVStgfbCX5461.translation  PtgfbVStgfbCX5461.translation  \\\n",
       "rownames                                                                        \n",
       "0610009B22Rik                         0.029191                       0.002929   \n",
       "1810013L24Rik                         0.000113                       0.000002   \n",
       "2200002D01Rik                         0.001713                       0.000069   \n",
       "2310030G06Rik                         0.014544                       0.001122   \n",
       "4930503L19Rik                         0.011334                       0.000802   \n",
       "\n",
       "              unt.tgfb.DEtranslation tgfb.tgfbCX5461.DEtranslation  \\\n",
       "rownames                                                             \n",
       "0610009B22Rik                 notSig                            up   \n",
       "1810013L24Rik                 notSig                            up   \n",
       "2200002D01Rik                   down                            up   \n",
       "2310030G06Rik                 notSig                            up   \n",
       "4930503L19Rik                 notSig                            up   \n",
       "\n",
       "              reversible.translation         biotype  \n",
       "rownames                                              \n",
       "0610009B22Rik                 notSig  protein_coding  \n",
       "1810013L24Rik                 notSig  protein_coding  \n",
       "2200002D01Rik                 downUp  protein_coding  \n",
       "2310030G06Rik                 notSig  protein_coding  \n",
       "4930503L19Rik                 notSig  protein_coding  "
      ]
     },
     "execution_count": 10,
     "metadata": {},
     "output_type": "execute_result"
    }
   ],
   "source": [
    "df.keys()\n",
    "df_ribo = df[(df['tgfb.tgfbCX5461.DEtranslation'] == 'up') | (df['tgfb.tgfbCX5461.DEtranslation'] == 'down')]\n",
    "\n",
    "print('Dimesnsion of the dataFrame df_ribo :', df_ribo.shape, '\\n')\n",
    "df_ribo.head()"
   ]
  },
  {
   "cell_type": "markdown",
   "id": "a8dac767-49d6-4424-8933-5fa3678b8372",
   "metadata": {},
   "source": [
    "## Total input proteomics data"
   ]
  },
  {
   "cell_type": "code",
   "execution_count": 11,
   "id": "acd138e1-6054-469e-be39-23dd5ca95825",
   "metadata": {},
   "outputs": [
    {
     "name": "stdout",
     "output_type": "stream",
     "text": [
      "Dimesnsion of the dataFrame df_proteomics : (344, 20)\n"
     ]
    },
    {
     "data": {
      "text/plain": [
       "Index(['WPG', 'Protein Accession #', 'Annotation', 'PSM#', 'Peptide#',\n",
       "       '%Coverage', 'US1', 'US3', 'TGFB1', 'TGFB2', 'TGFB3', 'TCX1', 'TCX2',\n",
       "       'TCX3', 'log2(TGFB/US)', 'log2(TCX/TGFB)', 'log2(TCX/US)', 'p value',\n",
       "       'FDR', 'DE'],\n",
       "      dtype='object')"
      ]
     },
     "execution_count": 11,
     "metadata": {},
     "output_type": "execute_result"
    }
   ],
   "source": [
    "data = data_proteomics.sort_values(by=['log2(TCX/TGFB)'], ascending=False)\n",
    "data = (data >>\n",
    " mask(data.DE =='yes'))\n",
    "\n",
    "data = data[~data.index.duplicated(keep='first')] # Remove duplicated genes\n",
    "df_proteomics_CX = data[abs(data['log2(TCX/TGFB)']) > 0.26]\n",
    "print('Dimesnsion of the dataFrame df_proteomics :', df_proteomics_CX.shape)\n",
    "data.keys()"
   ]
  },
  {
   "cell_type": "markdown",
   "id": "c08af949-b0cf-4b17-9905-833b37324e49",
   "metadata": {},
   "source": [
    "## Venn diagram"
   ]
  },
  {
   "cell_type": "code",
   "execution_count": 12,
   "id": "a623b4cd-a678-4802-b8a7-70e777f273aa",
   "metadata": {},
   "outputs": [
    {
     "data": {
      "image/png": "[encoded data removed]",
      "text/plain": [
       "<Figure size 500x500 with 1 Axes>"
      ]
     },
     "metadata": {},
     "output_type": "display_data"
    }
   ],
   "source": [
    "# Create the Series\n",
    "set3 = set(df_ribo.index)\n",
    "set4 = set(df_proteomics_CX.index)\n",
    "\n",
    "plt.rcParams['figure.figsize'] = [5, 5] # plt.figure plot very big file if dpi is over 100\n",
    "venn2([set3, set4], ('Ribo-seq', 'Proteomics')) \n",
    "#fig.savefig('Venn diagram.pdf')\n",
    "plt.savefig('./tiff/Venn diagram TGFb Vs CX5461 Ribo-seq and total input proteomics.tiff', dpi=500)\n",
    "plt.savefig('./pdf/Venn diagram TGFb Vs CX5461 Ribo-seq and total input proteomics.pdf', dpi=500)"
   ]
  },
  {
   "cell_type": "code",
   "execution_count": 13,
   "id": "f729f0ce-62cc-4622-a977-db8a22850d1f",
   "metadata": {},
   "outputs": [
    {
     "name": "stdout",
     "output_type": "stream",
     "text": [
      "The length of set is: 30 \n",
      "\n",
      "These are genes which are common in Ribo-seq and total proteomics ['Arl8a', 'Calm1', 'Ccn1', 'Ccn2', 'Ccnb1', 'Cdh1', 'Cdkn1a', 'Cox7b', 'Cstb', 'Dcxr', 'Fn1', 'Fosl1', 'Gla', 'Gpx4', 'Gtse1', 'Hspg2', 'Krt19', 'Mcam', 'Pdgfb', 'Psrc1', 'Rhob', 'Rps19bp1', 'Rps27a', 'Sdc1', 'Spp1', 'Sppl3', 'Tagln', 'Tspan7', 'Tyms', 'Vcl']\n"
     ]
    }
   ],
   "source": [
    "set_intersect = set1.intersection(set2, set3, set4)\n",
    "\n",
    "print(\"The length of set is:\", len(set_intersect), '\\n')\n",
    "print('These are genes which are common in Ribo-seq and total proteomics' , sorted(set_intersect))"
   ]
  },
  {
   "cell_type": "markdown",
   "id": "bf11f3a9-08d9-4720-a72c-4a20c0a02900",
   "metadata": {},
   "source": [
    "# TGF𝛽 Vs. CX5461 Ribo-seq/Polysome proteomics"
   ]
  },
  {
   "cell_type": "markdown",
   "id": "22b2023b-254d-42ea-b500-8ebb66eb2c63",
   "metadata": {},
   "source": [
    "## Ribos-seq"
   ]
  },
  {
   "cell_type": "raw",
   "id": "ccea461b-5765-405a-ba33-637161ab1391",
   "metadata": {},
   "source": [
    "We don't need anything to do here. I will use set1/set2 for further analysis and venn diagram."
   ]
  },
  {
   "cell_type": "markdown",
   "id": "164fe103-ee0f-4649-86d0-a4be6aa1f780",
   "metadata": {},
   "source": [
    "## Polysome fraction proteomics"
   ]
  },
  {
   "cell_type": "code",
   "execution_count": 14,
   "id": "bd7e5409-5faf-4231-b616-67abafc22c16",
   "metadata": {},
   "outputs": [
    {
     "name": "stdout",
     "output_type": "stream",
     "text": [
      "Dimesnsion of the polysome proteomics dataFrame data_poly_prot : (6579, 21)\n"
     ]
    },
    {
     "data": {
      "text/html": [
       "<div>\n",
       "<style scoped>\n",
       "    .dataframe tbody tr th:only-of-type {\n",
       "        vertical-align: middle;\n",
       "    }\n",
       "\n",
       "    .dataframe tbody tr th {\n",
       "        vertical-align: top;\n",
       "    }\n",
       "\n",
       "    .dataframe thead th {\n",
       "        text-align: right;\n",
       "    }\n",
       "</style>\n",
       "<table border=\"1\" class=\"dataframe\">\n",
       "  <thead>\n",
       "    <tr style=\"text-align: right;\">\n",
       "      <th></th>\n",
       "      <th>WPG</th>\n",
       "      <th>Protein Accession</th>\n",
       "      <th>Annotation</th>\n",
       "      <th>PSM</th>\n",
       "      <th>Peptide</th>\n",
       "      <th>Coverage</th>\n",
       "      <th>US1</th>\n",
       "      <th>US2</th>\n",
       "      <th>US3</th>\n",
       "      <th>TGFB1</th>\n",
       "      <th>...</th>\n",
       "      <th>TGFB3</th>\n",
       "      <th>TCX1</th>\n",
       "      <th>TCX2</th>\n",
       "      <th>TCX3</th>\n",
       "      <th>log2(TGFB/US)</th>\n",
       "      <th>log2(TCX/TGFB)</th>\n",
       "      <th>log2(TCX/US)</th>\n",
       "      <th>p value</th>\n",
       "      <th>FDR</th>\n",
       "      <th>DE</th>\n",
       "    </tr>\n",
       "    <tr>\n",
       "      <th>Gene name</th>\n",
       "      <th></th>\n",
       "      <th></th>\n",
       "      <th></th>\n",
       "      <th></th>\n",
       "      <th></th>\n",
       "      <th></th>\n",
       "      <th></th>\n",
       "      <th></th>\n",
       "      <th></th>\n",
       "      <th></th>\n",
       "      <th></th>\n",
       "      <th></th>\n",
       "      <th></th>\n",
       "      <th></th>\n",
       "      <th></th>\n",
       "      <th></th>\n",
       "      <th></th>\n",
       "      <th></th>\n",
       "      <th></th>\n",
       "      <th></th>\n",
       "      <th></th>\n",
       "    </tr>\n",
       "  </thead>\n",
       "  <tbody>\n",
       "    <tr>\n",
       "      <th>1700018B24Rik</th>\n",
       "      <td>1.0</td>\n",
       "      <td>tr|Q9D2S9|Q9D2S9_MOUSE</td>\n",
       "      <td>Enhancer of rudimentary homolog OS=Mus musculu...</td>\n",
       "      <td>9</td>\n",
       "      <td>2</td>\n",
       "      <td>6.67</td>\n",
       "      <td>187214.43360</td>\n",
       "      <td>209001.18180</td>\n",
       "      <td>179054.06180</td>\n",
       "      <td>188453.61190</td>\n",
       "      <td>...</td>\n",
       "      <td>204023.61950</td>\n",
       "      <td>268658.53270</td>\n",
       "      <td>224303.82410</td>\n",
       "      <td>233622.64150</td>\n",
       "      <td>0.002826</td>\n",
       "      <td>0.332778</td>\n",
       "      <td>0.335603</td>\n",
       "      <td>0.016490</td>\n",
       "      <td>0.028675</td>\n",
       "      <td>yes</td>\n",
       "    </tr>\n",
       "    <tr>\n",
       "      <th>Aarsd1</th>\n",
       "      <td>1.0</td>\n",
       "      <td>sp|Q3THG9|AASD1_MOUSE</td>\n",
       "      <td>Alanyl-tRNA editing protein Aarsd1 OS=Mus musc...</td>\n",
       "      <td>3</td>\n",
       "      <td>3</td>\n",
       "      <td>12.62</td>\n",
       "      <td>102820.89510</td>\n",
       "      <td>88749.62609</td>\n",
       "      <td>92219.90325</td>\n",
       "      <td>89918.86768</td>\n",
       "      <td>...</td>\n",
       "      <td>91583.22144</td>\n",
       "      <td>123017.89580</td>\n",
       "      <td>106880.20120</td>\n",
       "      <td>120741.98750</td>\n",
       "      <td>-0.017022</td>\n",
       "      <td>0.322253</td>\n",
       "      <td>0.305231</td>\n",
       "      <td>0.016583</td>\n",
       "      <td>0.028814</td>\n",
       "      <td>yes</td>\n",
       "    </tr>\n",
       "    <tr>\n",
       "      <th>Actn2</th>\n",
       "      <td>1.0</td>\n",
       "      <td>sp|Q9JI91|ACTN2_MOUSE</td>\n",
       "      <td>Alpha-actinin-2 OS=Mus musculus OX=10090 GN=Ac...</td>\n",
       "      <td>10</td>\n",
       "      <td>6</td>\n",
       "      <td>6.15</td>\n",
       "      <td>18801.96402</td>\n",
       "      <td>13909.45913</td>\n",
       "      <td>17462.19091</td>\n",
       "      <td>22222.68958</td>\n",
       "      <td>...</td>\n",
       "      <td>18684.61417</td>\n",
       "      <td>30167.51678</td>\n",
       "      <td>29710.73526</td>\n",
       "      <td>27531.18319</td>\n",
       "      <td>0.296881</td>\n",
       "      <td>0.514407</td>\n",
       "      <td>0.811288</td>\n",
       "      <td>0.000368</td>\n",
       "      <td>0.001371</td>\n",
       "      <td>yes</td>\n",
       "    </tr>\n",
       "    <tr>\n",
       "      <th>Adamtsl3</th>\n",
       "      <td>1.0</td>\n",
       "      <td>tr|G3UXC7|G3UXC7_MOUSE</td>\n",
       "      <td>ADAMTS-like 3 OS=Mus musculus OX=10090 GN=Adam...</td>\n",
       "      <td>3</td>\n",
       "      <td>3</td>\n",
       "      <td>2.11</td>\n",
       "      <td>26392.57550</td>\n",
       "      <td>21848.70811</td>\n",
       "      <td>25348.34033</td>\n",
       "      <td>19112.93497</td>\n",
       "      <td>...</td>\n",
       "      <td>19955.73917</td>\n",
       "      <td>31303.78872</td>\n",
       "      <td>30691.45691</td>\n",
       "      <td>29421.33866</td>\n",
       "      <td>-0.173712</td>\n",
       "      <td>0.490868</td>\n",
       "      <td>0.317155</td>\n",
       "      <td>0.016935</td>\n",
       "      <td>0.029353</td>\n",
       "      <td>yes</td>\n",
       "    </tr>\n",
       "    <tr>\n",
       "      <th>Ago4</th>\n",
       "      <td>1.0</td>\n",
       "      <td>tr|Q8CGT8|Q8CGT8_MOUSE</td>\n",
       "      <td>Argonaute 4 protein OS=Mus musculus OX=10090 G...</td>\n",
       "      <td>23</td>\n",
       "      <td>8</td>\n",
       "      <td>6.03</td>\n",
       "      <td>57244.29298</td>\n",
       "      <td>46861.12922</td>\n",
       "      <td>51243.51570</td>\n",
       "      <td>57744.67894</td>\n",
       "      <td>...</td>\n",
       "      <td>61472.54820</td>\n",
       "      <td>81442.43150</td>\n",
       "      <td>70119.04755</td>\n",
       "      <td>81302.38691</td>\n",
       "      <td>0.234269</td>\n",
       "      <td>0.351062</td>\n",
       "      <td>0.585331</td>\n",
       "      <td>0.001254</td>\n",
       "      <td>0.003531</td>\n",
       "      <td>yes</td>\n",
       "    </tr>\n",
       "  </tbody>\n",
       "</table>\n",
       "<p>5 rows × 21 columns</p>\n",
       "</div>"
      ],
      "text/plain": [
       "               WPG       Protein Accession  \\\n",
       "Gene name                                    \n",
       "1700018B24Rik  1.0  tr|Q9D2S9|Q9D2S9_MOUSE   \n",
       "Aarsd1         1.0   sp|Q3THG9|AASD1_MOUSE   \n",
       "Actn2          1.0   sp|Q9JI91|ACTN2_MOUSE   \n",
       "Adamtsl3       1.0  tr|G3UXC7|G3UXC7_MOUSE   \n",
       "Ago4           1.0  tr|Q8CGT8|Q8CGT8_MOUSE   \n",
       "\n",
       "                                                      Annotation  PSM  \\\n",
       "Gene name                                                               \n",
       "1700018B24Rik  Enhancer of rudimentary homolog OS=Mus musculu...    9   \n",
       "Aarsd1         Alanyl-tRNA editing protein Aarsd1 OS=Mus musc...    3   \n",
       "Actn2          Alpha-actinin-2 OS=Mus musculus OX=10090 GN=Ac...   10   \n",
       "Adamtsl3       ADAMTS-like 3 OS=Mus musculus OX=10090 GN=Adam...    3   \n",
       "Ago4           Argonaute 4 protein OS=Mus musculus OX=10090 G...   23   \n",
       "\n",
       "               Peptide  Coverage           US1           US2           US3  \\\n",
       "Gene name                                                                    \n",
       "1700018B24Rik        2      6.67  187214.43360  209001.18180  179054.06180   \n",
       "Aarsd1               3     12.62  102820.89510   88749.62609   92219.90325   \n",
       "Actn2                6      6.15   18801.96402   13909.45913   17462.19091   \n",
       "Adamtsl3             3      2.11   26392.57550   21848.70811   25348.34033   \n",
       "Ago4                 8      6.03   57244.29298   46861.12922   51243.51570   \n",
       "\n",
       "                      TGFB1  ...         TGFB3          TCX1          TCX2  \\\n",
       "Gene name                    ...                                             \n",
       "1700018B24Rik  188453.61190  ...  204023.61950  268658.53270  224303.82410   \n",
       "Aarsd1          89918.86768  ...   91583.22144  123017.89580  106880.20120   \n",
       "Actn2           22222.68958  ...   18684.61417   30167.51678   29710.73526   \n",
       "Adamtsl3        19112.93497  ...   19955.73917   31303.78872   30691.45691   \n",
       "Ago4            57744.67894  ...   61472.54820   81442.43150   70119.04755   \n",
       "\n",
       "                       TCX3  log2(TGFB/US)  log2(TCX/TGFB)  log2(TCX/US)  \\\n",
       "Gene name                                                                  \n",
       "1700018B24Rik  233622.64150       0.002826        0.332778      0.335603   \n",
       "Aarsd1         120741.98750      -0.017022        0.322253      0.305231   \n",
       "Actn2           27531.18319       0.296881        0.514407      0.811288   \n",
       "Adamtsl3        29421.33866      -0.173712        0.490868      0.317155   \n",
       "Ago4            81302.38691       0.234269        0.351062      0.585331   \n",
       "\n",
       "                p value       FDR   DE  \n",
       "Gene name                               \n",
       "1700018B24Rik  0.016490  0.028675  yes  \n",
       "Aarsd1         0.016583  0.028814  yes  \n",
       "Actn2          0.000368  0.001371  yes  \n",
       "Adamtsl3       0.016935  0.029353  yes  \n",
       "Ago4           0.001254  0.003531  yes  \n",
       "\n",
       "[5 rows x 21 columns]"
      ]
     },
     "execution_count": 14,
     "metadata": {},
     "output_type": "execute_result"
    }
   ],
   "source": [
    "data_poly_prot =  pd.read_csv('C:/Users/nmishra/Dropbox/PC/Desktop/Polysomes RNAseq EMT/jupyter codes/Blancgrp_EMT_1Whole_Proteome_TMT_2polysomes_v4.6.txt', sep=\"\\t\", na_filter=True, index_col=1) #Either I will use index_col=1 or data.set_index('Gene name')\n",
    "#data = data.set_index('Gene name')\n",
    "data_poly_prot = data_poly_prot.dropna(axis='columns', how ='all')\n",
    "data_poly_prot = data_poly_prot[data_poly_prot.index.notnull()]\n",
    "print('Dimesnsion of the polysome proteomics dataFrame data_poly_prot :', data_poly_prot.shape)\n",
    "data_poly_prot.head()"
   ]
  },
  {
   "cell_type": "markdown",
   "id": "b618d8dc-76ec-4000-acb6-5fa339d03cc6",
   "metadata": {},
   "source": [
    "### Filter"
   ]
  },
  {
   "cell_type": "code",
   "execution_count": 15,
   "id": "bd87bee8-7e80-4159-8f92-4286535597a6",
   "metadata": {},
   "outputs": [
    {
     "name": "stdout",
     "output_type": "stream",
     "text": [
      "Dimesnsion of the polysome proteomics dataFrame : (3048, 21)\n"
     ]
    }
   ],
   "source": [
    "data = data_poly_prot.sort_values(by=['log2(TGFB/US)'], ascending=False)\n",
    "data = (data >>\n",
    " mask(data.DE =='yes'))\n",
    "\n",
    "data = data[~data.index.duplicated(keep='first')] # Remove duplicated genes\n",
    "\n",
    "poly_prot_TGFb = data[abs(data['log2(TGFB/US)']) > 0.31]\n",
    "print('Dimesnsion of the polysome proteomics dataFrame :', poly_prot_TGFb.shape)"
   ]
  },
  {
   "cell_type": "markdown",
   "id": "38d068c8-1e64-4c7e-a507-0a4e164b207d",
   "metadata": {},
   "source": [
    "## Venn diagram"
   ]
  },
  {
   "cell_type": "code",
   "execution_count": 16,
   "id": "ed829615-4e94-4e90-8794-664f50524870",
   "metadata": {
    "scrolled": true,
    "tags": []
   },
   "outputs": [
    {
     "data": {
      "image/png": "[encoded data removed]",
      "text/plain": [
       "<Figure size 500x500 with 1 Axes>"
      ]
     },
     "metadata": {},
     "output_type": "display_data"
    }
   ],
   "source": [
    "#%matplotlib widget\n",
    "set5 = set(poly_prot_TGFb.index)\n",
    "\n",
    "#fig = plt.figure(dpi=300)\n",
    "plt.rcParams['figure.figsize'] = [5, 5] # plt.figure plot very big file if dpi is over 100\n",
    "venn2([set1, set5], ('Ribo-seq', 'Proteomics')) # venn2 works for two sets\n",
    "#fig.savefig('Venn diagram.pdf')\n",
    "plt.savefig('./tiff/Venn diagram Unt Vs TGFb Ribo-seq and Polysome.tiff', dpi=500)\n",
    "plt.savefig('./pdf/Venn diagram Unt Vs TGFb Ribo-seq and Polysome.pdf', dpi=500)\n",
    "#plt.show()"
   ]
  },
  {
   "cell_type": "markdown",
   "id": "8e666c11-bbd4-4e33-8314-eccb9db04c99",
   "metadata": {},
   "source": [
    "# TGF𝛽 Vs. CX5461 Ribo-seq/polysome fraction proteomics"
   ]
  },
  {
   "cell_type": "code",
   "execution_count": 17,
   "id": "6a5dd8ed-1ec1-4660-8a9c-76e2f7b4779f",
   "metadata": {},
   "outputs": [
    {
     "name": "stdout",
     "output_type": "stream",
     "text": [
      "Dimesnsion of the polysome proteomics dataFrame polysome proteomics CX5461 : (2034, 21)\n"
     ]
    }
   ],
   "source": [
    "data = data_poly_prot.sort_values(by=['log2(TCX/TGFB)'], ascending=False)\n",
    "data = (data >>\n",
    " mask(data.DE =='yes'))\n",
    "\n",
    "data = data[~data.index.duplicated(keep='first')] # Remove duplicated genes\n",
    "\n",
    "poly_prot_CX = data[abs(data['log2(TCX/TGFB)']) > 0.31]\n",
    "print('Dimesnsion of the polysome proteomics dataFrame polysome proteomics CX5461 :', poly_prot_CX.shape)"
   ]
  },
  {
   "cell_type": "code",
   "execution_count": 18,
   "id": "d52523da-e8c4-429d-96f9-b29097629e93",
   "metadata": {},
   "outputs": [
    {
     "data": {
      "image/png": "[encoded data removed]",
      "text/plain": [
       "<Figure size 500x500 with 1 Axes>"
      ]
     },
     "metadata": {},
     "output_type": "display_data"
    }
   ],
   "source": [
    "set6 = set(poly_prot_CX.index)\n",
    "\n",
    "#fig = plt.figure(dpi=300)\n",
    "plt.rcParams['figure.figsize'] = [5, 5] # plt.figure plot very big file if dpi is over 100\n",
    "venn2([set2, set6], ('Ribo-seq', 'Proteomics')) # venn2 works for two sets\n",
    "#fig.savefig('Venn diagram.pdf')\n",
    "plt.savefig('./tiff/Venn diagram TGFb Vs CX Ribo-seq and Polysome fraction proteomics.tiff', dpi=500)\n",
    "plt.savefig('./pdf/Venn diagram TGFb Vs CX Ribo-seq and Polysome fraction proteomics.pdf', dpi=500)"
   ]
  },
  {
   "cell_type": "markdown",
   "id": "d54de2dd-c4f1-4018-ab87-59fb0691bf16",
   "metadata": {},
   "source": [
    "# upDown/downUp category in Ribo-seq/Total-input proteomics"
   ]
  },
  {
   "cell_type": "markdown",
   "id": "85c534e0-4add-4c45-89ad-44ff7d6d03f0",
   "metadata": {},
   "source": [
    "## upDown/downUp in total input proteomics"
   ]
  },
  {
   "cell_type": "code",
   "execution_count": 19,
   "id": "165a85f7-e6fa-4e49-bd46-18f7200b4900",
   "metadata": {},
   "outputs": [
    {
     "name": "stdout",
     "output_type": "stream",
     "text": [
      "(11452, 13)\n",
      "Index(['WPG', 'Protein Accession #', 'Annotation', 'PSM#', 'Peptide#',\n",
      "       '%Coverage', 'US1', 'US3', 'TGFB1', 'TGFB2', 'TGFB3', 'TCX1', 'TCX2',\n",
      "       'TCX3', 'log2(TGFB/US)', 'log2(TCX/TGFB)', 'log2(TCX/US)', 'p value',\n",
      "       'FDR', 'DE'],\n",
      "      dtype='object')\n"
     ]
    }
   ],
   "source": [
    "data_proteomics =  pd.read_csv('C:/Users/nmishra/Dropbox/PC/Desktop/Polysomes RNAseq EMT/jupyter codes/Blancgrp_EMT_1Whole_Proteome_TMT_3totalcells_quick_lysis_v4.6.txt', sep=\"\\t\", na_filter=True, index_col=1) #Either I will use index_col=1 or data.set_index('Gene name')\n",
    "#data = data.set_index('Gene name')\n",
    "data_proteomics = data_proteomics.dropna(axis='columns', how ='all')\n",
    "data_proteomics = data_proteomics[data_proteomics.index.notnull()]\n",
    "\n",
    "\n",
    "data = data_proteomics.sort_values(by=['log2(TGFB/US)'], ascending=False)\n",
    "data = (data >>\n",
    " mask(data.DE =='yes'))\n",
    "\n",
    "data = data[~data.index.duplicated(keep='first')] # Remove duplicated genes\n",
    "print(df.shape)\n",
    "print(data.keys())"
   ]
  },
  {
   "cell_type": "code",
   "execution_count": 20,
   "id": "93a46ec3-818c-4a5c-958c-f46f98007d92",
   "metadata": {},
   "outputs": [
    {
     "name": "stdout",
     "output_type": "stream",
     "text": [
      "Dimesnsion of the dataFrame Ribo-seq/Total-input upUp : (29, 20)\n",
      "Dimesnsion of the dataFrame Ribo-seq/Total-input upDown : (74, 20)\n",
      "Dimesnsion of the dataFrame Ribo-seq/Total-input downUp : (109, 20)\n",
      "Dimesnsion of the dataFrame Ribo-seq/Total-input downDown : (67, 20)\n"
     ]
    }
   ],
   "source": [
    "total_proteomics_upUp = data[(data['log2(TGFB/US)'] > 0.26) & (data['log2(TCX/TGFB)'] > 0.26)]\n",
    "total_proteomics_upDown = data[(data['log2(TGFB/US)'] > 0.26) & (data['log2(TCX/TGFB)'] < -0.26)]\n",
    "total_proteomics_downUp = data[(data['log2(TGFB/US)'] < -0.26) & (data['log2(TCX/TGFB)'] > 0.26)]\n",
    "total_proteomics_downDown = data[(data['log2(TGFB/US)'] < -0.26) & (data['log2(TCX/TGFB)'] < -0.26)]\n",
    "\n",
    "print('Dimesnsion of the dataFrame Ribo-seq/Total-input upUp :', total_proteomics_upUp.shape)\n",
    "print('Dimesnsion of the dataFrame Ribo-seq/Total-input upDown :', total_proteomics_upDown.shape)\n",
    "print('Dimesnsion of the dataFrame Ribo-seq/Total-input downUp :', total_proteomics_downUp.shape)\n",
    "print('Dimesnsion of the dataFrame Ribo-seq/Total-input downDown :', total_proteomics_downDown.shape)"
   ]
  },
  {
   "cell_type": "markdown",
   "id": "f68e4b80-e22b-4b08-b73a-0f864f0c6cfa",
   "metadata": {},
   "source": [
    "## upDown/downUp in Ribo-seq"
   ]
  },
  {
   "cell_type": "code",
   "execution_count": 21,
   "id": "1ffc1d4d-da7e-4faa-b903-091517a12221",
   "metadata": {},
   "outputs": [
    {
     "name": "stdout",
     "output_type": "stream",
     "text": [
      "Index(['unt.translation', 'tgfb.translation', 'tgfbCX5461.translation',\n",
      "       'log2FCuntVStgfb.translation', 'FDRuntVStgfb.translation',\n",
      "       'PuntVStgfb.translation', 'log2FCtgfbVStgfbCX5461.translation',\n",
      "       'FDRtgfbVStgfbCX5461.translation', 'PtgfbVStgfbCX5461.translation',\n",
      "       'unt.tgfb.DEtranslation', 'tgfb.tgfbCX5461.DEtranslation',\n",
      "       'reversible.translation', 'biotype'],\n",
      "      dtype='object')\n",
      "Dimesnsion of the dataFrame df_upDown : (301, 13)\n",
      "Dimesnsion of the dataFrame df_downUp : (262, 13)\n",
      "reversible.translation\n",
      "notSig                    9410\n",
      "upDown                     301\n",
      "downUp                     262\n",
      "dtype: int64\n"
     ]
    }
   ],
   "source": [
    "print(df.keys())\n",
    "df_upDown = df[(df['reversible.translation']== 'upDown')]\n",
    "df_downUp = df[(df['reversible.translation']== 'downUp')]\n",
    "\n",
    "print('Dimesnsion of the dataFrame df_upDown :', df_upDown.shape)\n",
    "print('Dimesnsion of the dataFrame df_downUp :', df_downUp.shape)\n",
    "\n",
    "print(df[['reversible.translation']].value_counts())"
   ]
  },
  {
   "cell_type": "markdown",
   "id": "0db2e693-4a10-4c0a-986f-4f2cd370690c",
   "metadata": {},
   "source": [
    "## Intersect genes upDown in Ribo-seq and total proteomics"
   ]
  },
  {
   "cell_type": "code",
   "execution_count": 22,
   "id": "4a775232-cdd3-463b-b398-55e507a9d24d",
   "metadata": {},
   "outputs": [
    {
     "name": "stdout",
     "output_type": "stream",
     "text": [
      "The length of genes upDown in Ribo-seq and Total proteomics: 9 \n",
      "\n",
      "These are the 9 upDown genes which are common in Ribo-seq and total proteomics data : ['Ccn1', 'Ccn2', 'Mcam', 'Pdgfb', 'Rhob', 'Sdc1', 'Spp1', 'Sppl3', 'Tagln']\n"
     ]
    }
   ],
   "source": [
    "set_upDown = set(df_upDown.index)\n",
    "set_upDown = set_upDown.intersection(set(total_proteomics_upDown.index), set_intersect)\n",
    "print(\"The length of genes upDown in Ribo-seq and Total proteomics:\", len(set_upDown), '\\n')\n",
    "print(\"These are the\", len(set_upDown), \"upDown genes which are common in Ribo-seq and total proteomics data :\" ,sorted(set_upDown))"
   ]
  },
  {
   "cell_type": "markdown",
   "id": "bd77cc56-b7bd-4827-86aa-371e8f914ec6",
   "metadata": {},
   "source": [
    "### Venn diagram"
   ]
  },
  {
   "cell_type": "code",
   "execution_count": 23,
   "id": "4f086c55-f91a-4238-9607-dc167f13f61a",
   "metadata": {},
   "outputs": [
    {
     "data": {
      "image/png": "[encoded data removed]",
      "text/plain": [
       "<Figure size 500x500 with 1 Axes>"
      ]
     },
     "metadata": {},
     "output_type": "display_data"
    }
   ],
   "source": [
    "plt.rcParams['figure.figsize'] = [5, 5] # plt.figure plot very big file if dpi is over 100\n",
    "A = set(df_upDown.index)\n",
    "B = set(total_proteomics_upDown.index)\n",
    "v = venn2([A, B], ('Ribo-seq', 'Proteomics')) # venn2 works for two sets\n",
    "#v.get_label_by_id('11').set_text('\\n'.join(A&B))\n",
    "\n",
    "plt.annotate('\\n'.join(sorted(A&B)), xy=v.get_label_by_id('11').get_position() +\n",
    "             np.array([0, 0.1]), xytext=(2,60), ha='center',\n",
    "             textcoords='offset points', \n",
    "             bbox=dict(boxstyle='round,pad=0.5', fc='gray', alpha=0.1),\n",
    "             arrowprops=dict(arrowstyle='->',              \n",
    "                             connectionstyle='arc',color='gray'))\n",
    "plt.tight_layout()\n",
    "plt.savefig('./tiff/upDown Venn diagram Ribo-seq and total input proteomics.tiff', dpi=500)\n",
    "plt.savefig('./pdf/upDown Venn diagram Ribo-seq and total input proteomics.pdf', dpi=500)"
   ]
  },
  {
   "cell_type": "markdown",
   "id": "657404ec-9370-4ee2-b4bb-227d03721b01",
   "metadata": {},
   "source": [
    "### Intersect genes downUp in Ribo-seq and total proteomics"
   ]
  },
  {
   "cell_type": "code",
   "execution_count": 24,
   "id": "9d61869e-a3d3-4dfb-8f8a-551087c61fe0",
   "metadata": {},
   "outputs": [
    {
     "data": {
      "image/png": "[encoded data removed]",
      "text/plain": [
       "<Figure size 500x500 with 1 Axes>"
      ]
     },
     "metadata": {},
     "output_type": "display_data"
    }
   ],
   "source": [
    "plt.rcParams['figure.figsize'] = [5, 5] # plt.figure plot very big file if dpi is over 100\n",
    "A = set(df_downUp.index)\n",
    "B = set(total_proteomics_downUp.index)\n",
    "v = venn2([A, B], ('Ribo-seq', 'Proteomics')) # venn2 works for two sets\n",
    "#v.get_label_by_id('11').set_text('\\n'.join(A&B))\n",
    "\n",
    "plt.annotate('\\n'.join(sorted(A&B)), xy=v.get_label_by_id('11').get_position() +\n",
    "             np.array([0, 0.1]), xytext=(2,60), ha='center',\n",
    "             textcoords='offset points', \n",
    "             bbox=dict(boxstyle='round,pad=0.5', fc='gray', alpha=0.1),\n",
    "             arrowprops=dict(arrowstyle='->',              \n",
    "                             connectionstyle='arc',color='gray'))\n",
    "plt.tight_layout()\n",
    "plt.savefig('./tiff/downUp Venn diagram Ribo-seq and total input proteomics.tiff', dpi=500)\n",
    "plt.savefig('./pdf/downUp Venn diagram Ribo-seq and total input proteomics.pdf', dpi=500)"
   ]
  },
  {
   "cell_type": "markdown",
   "id": "647becd5-059d-4165-a8aa-89d30a11db89",
   "metadata": {},
   "source": [
    "# upDown/downUp category in Ribo-seq/Polysome fraction proteomics"
   ]
  },
  {
   "cell_type": "markdown",
   "id": "08fe9619-5eca-4009-b53b-9288ef1d3574",
   "metadata": {},
   "source": [
    "## upDown/downUp in polysome fraction proteomics"
   ]
  },
  {
   "cell_type": "code",
   "execution_count": 25,
   "id": "7fd480a4-d676-46bc-8c6c-197e79f67874",
   "metadata": {},
   "outputs": [
    {
     "name": "stdout",
     "output_type": "stream",
     "text": [
      "(11452, 13)\n",
      "Index(['WPG', 'Protein Accession', 'Annotation', 'PSM', 'Peptide', 'Coverage',\n",
      "       'US1', 'US2', 'US3', 'TGFB1', 'TGFB2', 'TGFB3', 'TCX1', 'TCX2', 'TCX3',\n",
      "       'log2(TGFB/US)', 'log2(TCX/TGFB)', 'log2(TCX/US)', 'p value', 'FDR',\n",
      "       'DE'],\n",
      "      dtype='object')\n"
     ]
    }
   ],
   "source": [
    "data_poly_prot =  pd.read_csv('C:/Users/nmishra/Dropbox/PC/Desktop/Polysomes RNAseq EMT/jupyter codes/Blancgrp_EMT_1Whole_Proteome_TMT_2polysomes_v4.6.txt', sep=\"\\t\", na_filter=True, index_col=1) #Either I will use index_col=1 or data.set_index('Gene name')\n",
    "#data = data.set_index('Gene name')\n",
    "data_poly_prot = data_poly_prot.dropna(axis='columns', how ='all')\n",
    "data_poly_prot = data_poly_prot[data_poly_prot.index.notnull()]\n",
    "\n",
    "data = data_poly_prot.sort_values(by=['log2(TGFB/US)'], ascending=False)\n",
    "data = (data >>\n",
    " mask(data.DE =='yes'))\n",
    "\n",
    "data = data[~data.index.duplicated(keep='first')] # Remove duplicated genes\n",
    "print(df.shape)\n",
    "print(data.keys())"
   ]
  },
  {
   "cell_type": "code",
   "execution_count": 26,
   "id": "fd8a3692-f65d-4dfd-b5a8-bdf9e7c004f4",
   "metadata": {},
   "outputs": [
    {
     "name": "stdout",
     "output_type": "stream",
     "text": [
      "Dimesnsion of the dataFrame Ribo-seq/Polysome upUp : (75, 21)\n",
      "Dimesnsion of the dataFrame Ribo-seq/Polysome upDown : (713, 21)\n",
      "Dimesnsion of the dataFrame Ribo-seq/Polysome downUp : (68, 21)\n",
      "Dimesnsion of the dataFrame Ribo-seq/Polysome downDown : (506, 21)\n"
     ]
    }
   ],
   "source": [
    "total_poly_upUp = data[(data['log2(TGFB/US)'] > 0.31) & (data['log2(TCX/TGFB)'] > 0.31)]\n",
    "total_poly_upDown = data[(data['log2(TGFB/US)'] > 0.31) & (data['log2(TCX/TGFB)'] < -0.31)]\n",
    "total_poly_downUp = data[(data['log2(TGFB/US)'] < -0.31) & (data['log2(TCX/TGFB)'] > 0.31)]\n",
    "total_poly_downDown = data[(data['log2(TGFB/US)'] < -0.31) & (data['log2(TCX/TGFB)'] < -0.31)]\n",
    "\n",
    "print('Dimesnsion of the dataFrame Ribo-seq/Polysome upUp :', total_poly_upUp.shape)\n",
    "print('Dimesnsion of the dataFrame Ribo-seq/Polysome upDown :', total_poly_upDown.shape)\n",
    "print('Dimesnsion of the dataFrame Ribo-seq/Polysome downUp :', total_poly_downUp.shape)\n",
    "print('Dimesnsion of the dataFrame Ribo-seq/Polysome downDown :', total_poly_downDown.shape)"
   ]
  },
  {
   "cell_type": "markdown",
   "id": "220109ea-f448-4c8d-accd-55dc6806540b",
   "metadata": {},
   "source": [
    "## Intersect genes upDown in Ribo-seq and polysome proteomics"
   ]
  },
  {
   "cell_type": "markdown",
   "id": "c6a998dd-e696-400a-ba26-f748ac5d2a76",
   "metadata": {},
   "source": [
    "### Venn diagram"
   ]
  },
  {
   "cell_type": "code",
   "execution_count": 27,
   "id": "528accb3-1b50-4cbb-ae4d-dd4d2edd6994",
   "metadata": {},
   "outputs": [
    {
     "data": {
      "image/png": "[encoded data removed]",
      "text/plain": [
       "<Figure size 700x700 with 1 Axes>"
      ]
     },
     "metadata": {},
     "output_type": "display_data"
    }
   ],
   "source": [
    "plt.rcParams['figure.figsize'] = [7, 7] # plt.figure plot very big file if dpi is over 100\n",
    "A = set(df_upDown.index)\n",
    "B = set(total_poly_upDown.index)\n",
    "v = venn2([A, B], ('Ribo-seq', 'Proteomics')) # venn2 works for two sets\n",
    "#v.get_label_by_id('11').set_text('\\n'.join(A&B))\n",
    "#C = 'Adgrg1, Akap12, Atrn, Bicd2, Calr \\n Ccn1, Ccn2, Cdh2, Cpd, F3 \\n Fads3, Fhod1, Fkbp5, Fzd2, Glg1 \\n Itga5, Itgb3, Jup, Kank2, Lpcat1 \\n Lrp1, Lrrfip1, Mfge8, Mrtfa, Myadm \\n Nfkb2, Niban2, Parm1, Pdia4, Rcn2 \\n Rhob, Sdc1, Slc7a6, Sparc, Specc1 \\n Spp1, Tapbp, Thbs1, Tpbg'\n",
    "C = 'Adgrg1, Akap12, Atrn, Bicd2, Calr \\n Ccn1, Ccn2, Cdh2, Cpd, F3 \\n Fads3, Fhod1, Fkbp5, Fzd2 \\n Glg1, Gorasp2, Gspt1, Hsp90b1 \\n Itga5, Itgb3, Jag1, Jup, Kank2 \\n Lpcat1, Lrp1, Lrrfip1, Marcks, Mfge8 \\n Mrtfa, Myadm, Nfkb2, Niban2, P4hb \\n Parm1, Pdia4, Pdia6, Plbd2, Rcn2 \\n Rhob, Ror1, Sdc1, Slc7a6, Sparc \\n Specc1, Spp1, Stk3, Tapbp \\n Tgs1, Thbs1, Tpbg'\n",
    "#plt.annotate('\\n'.join(sorted(A&B)), xy=v.get_label_by_id('11').get_position() +\n",
    "plt.annotate(C, xy=v.get_label_by_id('11').get_position() +\n",
    "             np.array([0, 0.1]), xytext=(2,130), ha='center',\n",
    "             textcoords='offset points', \n",
    "             bbox=dict(boxstyle='round,pad=0.5', fc='gray', alpha=0.1),\n",
    "             arrowprops=dict(arrowstyle='->',              \n",
    "                             connectionstyle='arc',color='gray'))\n",
    "plt.tight_layout()\n",
    "plt.savefig('./tiff/upDown Venn diagram Ribo-seq and Polysome proteomics.tiff', dpi=500)\n",
    "plt.savefig('./pdf/upDown Venn diagram Ribo-seq and Polysome proteomics.pdf', dpi=500)\n"
   ]
  },
  {
   "cell_type": "code",
   "execution_count": 28,
   "id": "3d64b677-7fe9-4a5c-9809-c1b15954571a",
   "metadata": {},
   "outputs": [
    {
     "name": "stdout",
     "output_type": "stream",
     "text": [
      "['Adgrg1', 'Akap12', 'Atrn', 'Bicd2', 'Calr', 'Ccn1', 'Ccn2', 'Cdh2', 'Cpd', 'F3', 'Fads3', 'Fhod1', 'Fkbp5', 'Fzd2', 'Glg1', 'Gorasp2', 'Gspt1', 'Hsp90b1', 'Itga5', 'Itgb3', 'Jag1', 'Jup', 'Kank2', 'Lpcat1', 'Lrp1', 'Lrrfip1', 'Marcks', 'Mfge8', 'Mrtfa', 'Myadm', 'Nfkb2', 'Niban2', 'P4hb', 'Parm1', 'Pdia4', 'Pdia6', 'Plbd2', 'Rcn2', 'Rhob', 'Ror1', 'Sdc1', 'Slc7a6', 'Sparc', 'Specc1', 'Spp1', 'Stk3', 'Tapbp', 'Tgs1', 'Thbs1', 'Tpbg']\n"
     ]
    }
   ],
   "source": [
    "print(sorted(A.intersection(B)))"
   ]
  },
  {
   "cell_type": "markdown",
   "id": "9e78c0b7-ad37-4dcc-be66-b13dac1f722c",
   "metadata": {},
   "source": [
    "## Intersect genes downUp in Ribo-seq and polysome proteomics"
   ]
  },
  {
   "cell_type": "code",
   "execution_count": 29,
   "id": "8127993d-9b29-4e05-8ed2-a3003412ea22",
   "metadata": {},
   "outputs": [
    {
     "data": {
      "image/png": "[encoded data removed]",
      "text/plain": [
       "<Figure size 500x500 with 1 Axes>"
      ]
     },
     "metadata": {},
     "output_type": "display_data"
    }
   ],
   "source": [
    "plt.rcParams['figure.figsize'] = [5, 5] # plt.figure plot very big file if dpi is over 100\n",
    "A = set(df_downUp.index)\n",
    "B = set(total_poly_downUp.index)\n",
    "v = venn2([A, B], ('Ribo-seq', 'Proteomics')) # venn2 works for two sets\n",
    "#v.get_label_by_id('11').set_text('\\n'.join(A&B))\n",
    "\n",
    "plt.annotate('\\n'.join(sorted(A&B)), xy=v.get_label_by_id('11').get_position() +\n",
    "             np.array([0, 0.1]), xytext=(2,60), ha='center',\n",
    "             textcoords='offset points', \n",
    "             bbox=dict(boxstyle='round,pad=0.5', fc='gray', alpha=0.1),\n",
    "             arrowprops=dict(arrowstyle='->',              \n",
    "                             connectionstyle='arc',color='gray'))\n",
    "plt.tight_layout()\n",
    "plt.savefig('./tiff/downUp Venn diagram Ribo-seq and Polysome proteomics.tiff', dpi=500)\n",
    "plt.savefig('./pdf/downUp Venn diagram Ribo-seq and Polysome proteomics.pdf', dpi=500)"
   ]
  },
  {
   "cell_type": "code",
   "execution_count": 30,
   "id": "7fcf9344-18aa-443f-8461-879688ee3297",
   "metadata": {},
   "outputs": [
    {
     "data": {
      "text/plain": [
       "{'Eif5a', 'H2ac11', 'Plgrkt', 'Psrc1', 'Rps9'}"
      ]
     },
     "execution_count": 30,
     "metadata": {},
     "output_type": "execute_result"
    }
   ],
   "source": [
    "set_downUp = set(df_downUp.index)\n",
    "set_downUp = set_downUp.intersection(set(total_poly_downUp.index))\n",
    "set_downUp"
   ]
  },
  {
   "cell_type": "markdown",
   "id": "33b647b5-af99-4428-a5c1-404a7b9ae1a7",
   "metadata": {},
   "source": [
    "# Polysome RNA-seq and total input proteomics Venn diagram\n",
    "<font size = 3><b> Based on upDown/downUp of Polysome RNAseq Vs Ribo-seq"
   ]
  },
  {
   "cell_type": "markdown",
   "id": "12c2952d-a817-4cda-bbe9-f0375437f0f2",
   "metadata": {},
   "source": [
    "### load Polysome Rdata"
   ]
  },
  {
   "cell_type": "code",
   "execution_count": 31,
   "id": "0d4a4082-9257-45d8-a758-3b0e1a136eb8",
   "metadata": {},
   "outputs": [
    {
     "name": "stdout",
     "output_type": "stream",
     "text": [
      "Load R workspace image (.RData) file in Python\n",
      "\n",
      "Name of all files/function/variables in Rdata image\n",
      "\n",
      "odict_keys(['df_all']) \n",
      "\n",
      "Dimesnsion of the dataFrame df_all : (12192, 31) \n",
      "\n"
     ]
    },
    {
     "data": {
      "text/html": [
       "<div>\n",
       "<style scoped>\n",
       "    .dataframe tbody tr th:only-of-type {\n",
       "        vertical-align: middle;\n",
       "    }\n",
       "\n",
       "    .dataframe tbody tr th {\n",
       "        vertical-align: top;\n",
       "    }\n",
       "\n",
       "    .dataframe thead th {\n",
       "        text-align: right;\n",
       "    }\n",
       "</style>\n",
       "<table border=\"1\" class=\"dataframe\">\n",
       "  <thead>\n",
       "    <tr style=\"text-align: right;\">\n",
       "      <th></th>\n",
       "      <th>seqnames</th>\n",
       "      <th>start</th>\n",
       "      <th>end</th>\n",
       "      <th>width</th>\n",
       "      <th>strand</th>\n",
       "      <th>source</th>\n",
       "      <th>unt.transcription</th>\n",
       "      <th>tgfb.transcription</th>\n",
       "      <th>tgfbCX5461.transcription</th>\n",
       "      <th>log2FCuntVStgfb.transcription</th>\n",
       "      <th>...</th>\n",
       "      <th>log2FCuntVStgfb.translation</th>\n",
       "      <th>FDRuntVStgfb.translation</th>\n",
       "      <th>PuntVStgfb.translation</th>\n",
       "      <th>log2FCtgfbVStgfbCX5461.translation</th>\n",
       "      <th>FDRtgfbVStgfbCX5461.translation</th>\n",
       "      <th>PtgfbVStgfbCX5461.translation</th>\n",
       "      <th>unt.tgfb.DEtranslation</th>\n",
       "      <th>tgfb.tgfbCX5461.DEtranslation</th>\n",
       "      <th>reversible.translation</th>\n",
       "      <th>biotype</th>\n",
       "    </tr>\n",
       "    <tr>\n",
       "      <th>rownames</th>\n",
       "      <th></th>\n",
       "      <th></th>\n",
       "      <th></th>\n",
       "      <th></th>\n",
       "      <th></th>\n",
       "      <th></th>\n",
       "      <th></th>\n",
       "      <th></th>\n",
       "      <th></th>\n",
       "      <th></th>\n",
       "      <th></th>\n",
       "      <th></th>\n",
       "      <th></th>\n",
       "      <th></th>\n",
       "      <th></th>\n",
       "      <th></th>\n",
       "      <th></th>\n",
       "      <th></th>\n",
       "      <th></th>\n",
       "      <th></th>\n",
       "      <th></th>\n",
       "    </tr>\n",
       "  </thead>\n",
       "  <tbody>\n",
       "    <tr>\n",
       "      <th>0610009B22Rik</th>\n",
       "      <td>11</td>\n",
       "      <td>51576213</td>\n",
       "      <td>51579701</td>\n",
       "      <td>3489</td>\n",
       "      <td>-</td>\n",
       "      <td>ensembl_havana</td>\n",
       "      <td>-0.384215</td>\n",
       "      <td>-0.207784</td>\n",
       "      <td>-0.578218</td>\n",
       "      <td>0.176431</td>\n",
       "      <td>...</td>\n",
       "      <td>-0.147909</td>\n",
       "      <td>0.618719</td>\n",
       "      <td>0.500992</td>\n",
       "      <td>0.078268</td>\n",
       "      <td>0.864280</td>\n",
       "      <td>0.746352</td>\n",
       "      <td>notSig</td>\n",
       "      <td>notSig</td>\n",
       "      <td>notSig</td>\n",
       "      <td>protein_coding</td>\n",
       "    </tr>\n",
       "    <tr>\n",
       "      <th>0610010F05Rik</th>\n",
       "      <td>11</td>\n",
       "      <td>23514961</td>\n",
       "      <td>23583639</td>\n",
       "      <td>68679</td>\n",
       "      <td>-</td>\n",
       "      <td>ensembl_havana</td>\n",
       "      <td>1.469728</td>\n",
       "      <td>1.754698</td>\n",
       "      <td>1.607188</td>\n",
       "      <td>0.284970</td>\n",
       "      <td>...</td>\n",
       "      <td>0.694990</td>\n",
       "      <td>0.002980</td>\n",
       "      <td>0.000672</td>\n",
       "      <td>-0.797187</td>\n",
       "      <td>0.004750</td>\n",
       "      <td>0.000394</td>\n",
       "      <td>up</td>\n",
       "      <td>down</td>\n",
       "      <td>upDown</td>\n",
       "      <td>protein_coding</td>\n",
       "    </tr>\n",
       "    <tr>\n",
       "      <th>0610010K14Rik</th>\n",
       "      <td>11</td>\n",
       "      <td>70126032</td>\n",
       "      <td>70128740</td>\n",
       "      <td>2709</td>\n",
       "      <td>-</td>\n",
       "      <td>ensembl_havana</td>\n",
       "      <td>-0.352949</td>\n",
       "      <td>-0.870655</td>\n",
       "      <td>-1.072284</td>\n",
       "      <td>-0.517707</td>\n",
       "      <td>...</td>\n",
       "      <td>-0.740848</td>\n",
       "      <td>0.025923</td>\n",
       "      <td>0.008925</td>\n",
       "      <td>0.117857</td>\n",
       "      <td>0.839611</td>\n",
       "      <td>0.705715</td>\n",
       "      <td>down</td>\n",
       "      <td>notSig</td>\n",
       "      <td>notSig</td>\n",
       "      <td>protein_coding</td>\n",
       "    </tr>\n",
       "    <tr>\n",
       "      <th>0610012G03Rik</th>\n",
       "      <td>16</td>\n",
       "      <td>31765868</td>\n",
       "      <td>31767312</td>\n",
       "      <td>1445</td>\n",
       "      <td>-</td>\n",
       "      <td>havana</td>\n",
       "      <td>0.374806</td>\n",
       "      <td>0.863984</td>\n",
       "      <td>0.886400</td>\n",
       "      <td>0.489177</td>\n",
       "      <td>...</td>\n",
       "      <td>-0.331533</td>\n",
       "      <td>0.263892</td>\n",
       "      <td>0.161736</td>\n",
       "      <td>0.244870</td>\n",
       "      <td>0.546510</td>\n",
       "      <td>0.321908</td>\n",
       "      <td>notSig</td>\n",
       "      <td>notSig</td>\n",
       "      <td>notSig</td>\n",
       "      <td>protein_coding</td>\n",
       "    </tr>\n",
       "    <tr>\n",
       "      <th>0610030E20Rik</th>\n",
       "      <td>6</td>\n",
       "      <td>72324300</td>\n",
       "      <td>72330131</td>\n",
       "      <td>5832</td>\n",
       "      <td>+</td>\n",
       "      <td>ensembl_havana</td>\n",
       "      <td>0.057414</td>\n",
       "      <td>0.163525</td>\n",
       "      <td>-0.322434</td>\n",
       "      <td>0.106111</td>\n",
       "      <td>...</td>\n",
       "      <td>0.141279</td>\n",
       "      <td>0.673414</td>\n",
       "      <td>0.567188</td>\n",
       "      <td>-0.205945</td>\n",
       "      <td>0.664742</td>\n",
       "      <td>0.457303</td>\n",
       "      <td>notSig</td>\n",
       "      <td>notSig</td>\n",
       "      <td>notSig</td>\n",
       "      <td>protein_coding</td>\n",
       "    </tr>\n",
       "  </tbody>\n",
       "</table>\n",
       "<p>5 rows × 31 columns</p>\n",
       "</div>"
      ],
      "text/plain": [
       "              seqnames     start       end  width strand          source  \\\n",
       "rownames                                                                   \n",
       "0610009B22Rik       11  51576213  51579701   3489      -  ensembl_havana   \n",
       "0610010F05Rik       11  23514961  23583639  68679      -  ensembl_havana   \n",
       "0610010K14Rik       11  70126032  70128740   2709      -  ensembl_havana   \n",
       "0610012G03Rik       16  31765868  31767312   1445      -          havana   \n",
       "0610030E20Rik        6  72324300  72330131   5832      +  ensembl_havana   \n",
       "\n",
       "               unt.transcription  tgfb.transcription  \\\n",
       "rownames                                               \n",
       "0610009B22Rik          -0.384215           -0.207784   \n",
       "0610010F05Rik           1.469728            1.754698   \n",
       "0610010K14Rik          -0.352949           -0.870655   \n",
       "0610012G03Rik           0.374806            0.863984   \n",
       "0610030E20Rik           0.057414            0.163525   \n",
       "\n",
       "               tgfbCX5461.transcription  log2FCuntVStgfb.transcription  ...  \\\n",
       "rownames                                                                ...   \n",
       "0610009B22Rik                 -0.578218                       0.176431  ...   \n",
       "0610010F05Rik                  1.607188                       0.284970  ...   \n",
       "0610010K14Rik                 -1.072284                      -0.517707  ...   \n",
       "0610012G03Rik                  0.886400                       0.489177  ...   \n",
       "0610030E20Rik                 -0.322434                       0.106111  ...   \n",
       "\n",
       "               log2FCuntVStgfb.translation  FDRuntVStgfb.translation  \\\n",
       "rownames                                                               \n",
       "0610009B22Rik                    -0.147909                  0.618719   \n",
       "0610010F05Rik                     0.694990                  0.002980   \n",
       "0610010K14Rik                    -0.740848                  0.025923   \n",
       "0610012G03Rik                    -0.331533                  0.263892   \n",
       "0610030E20Rik                     0.141279                  0.673414   \n",
       "\n",
       "               PuntVStgfb.translation  log2FCtgfbVStgfbCX5461.translation  \\\n",
       "rownames                                                                    \n",
       "0610009B22Rik                0.500992                            0.078268   \n",
       "0610010F05Rik                0.000672                           -0.797187   \n",
       "0610010K14Rik                0.008925                            0.117857   \n",
       "0610012G03Rik                0.161736                            0.244870   \n",
       "0610030E20Rik                0.567188                           -0.205945   \n",
       "\n",
       "               FDRtgfbVStgfbCX5461.translation PtgfbVStgfbCX5461.translation  \\\n",
       "rownames                                                                       \n",
       "0610009B22Rik                         0.864280                      0.746352   \n",
       "0610010F05Rik                         0.004750                      0.000394   \n",
       "0610010K14Rik                         0.839611                      0.705715   \n",
       "0610012G03Rik                         0.546510                      0.321908   \n",
       "0610030E20Rik                         0.664742                      0.457303   \n",
       "\n",
       "              unt.tgfb.DEtranslation tgfb.tgfbCX5461.DEtranslation  \\\n",
       "rownames                                                             \n",
       "0610009B22Rik                 notSig                        notSig   \n",
       "0610010F05Rik                     up                          down   \n",
       "0610010K14Rik                   down                        notSig   \n",
       "0610012G03Rik                 notSig                        notSig   \n",
       "0610030E20Rik                 notSig                        notSig   \n",
       "\n",
       "               reversible.translation         biotype  \n",
       "rownames                                               \n",
       "0610009B22Rik                  notSig  protein_coding  \n",
       "0610010F05Rik                  upDown  protein_coding  \n",
       "0610010K14Rik                  notSig  protein_coding  \n",
       "0610012G03Rik                  notSig  protein_coding  \n",
       "0610030E20Rik                  notSig  protein_coding  \n",
       "\n",
       "[5 rows x 31 columns]"
      ]
     },
     "execution_count": 31,
     "metadata": {},
     "output_type": "execute_result"
    }
   ],
   "source": [
    "print('Load R workspace image (.RData) file in Python\\n')\n",
    "result = pyreadr.read_r('C:/Users/nmishra/Dropbox/PC/Desktop/EMT-2022-August/Polysome_RNAseq_backup/jupyter codes/rdata/riboprof_170224.rdna_rn18s_161021.rdna_rn18s_limma-voom.mrna.rdata') # by using pyreadr\n",
    "print('Name of all files/function/variables in Rdata image\\n')\n",
    "print(result.keys(), '\\n') # Name of all files/function/variables in Rdata image\n",
    "\n",
    "df_all = result[\"df_all\"]\n",
    "\n",
    "print('Dimesnsion of the dataFrame df_all :', df_all.shape,\"\\n\")\n",
    "df_all.head()\n",
    "#df_all.loc[[\"Zbp1\"]]"
   ]
  },
  {
   "cell_type": "code",
   "execution_count": 32,
   "id": "baa50f25-3f3f-48c2-9c22-656f0cf8060e",
   "metadata": {},
   "outputs": [
    {
     "name": "stdout",
     "output_type": "stream",
     "text": [
      "Index(['seqnames', 'start', 'end', 'width', 'strand', 'source',\n",
      "       'unt.transcription', 'tgfb.transcription', 'tgfbCX5461.transcription',\n",
      "       'log2FCuntVStgfb.transcription', 'FDRuntVStgfb.transcription',\n",
      "       'PuntVStgfb.transcription', 'log2FCtgfbVStgfbCX5461.transcription',\n",
      "       'FDRtgfbVStgfbCX5461.transcription', 'PtgfbVStgfbCX5461.transcription',\n",
      "       'unt.tgfb.DEtranscription', 'tgfb.tgfbCX5461.DEtranscription',\n",
      "       'reversible.transcription', 'unt.translation', 'tgfb.translation',\n",
      "       'tgfbCX5461.translation', 'log2FCuntVStgfb.translation',\n",
      "       'FDRuntVStgfb.translation', 'PuntVStgfb.translation',\n",
      "       'log2FCtgfbVStgfbCX5461.translation', 'FDRtgfbVStgfbCX5461.translation',\n",
      "       'PtgfbVStgfbCX5461.translation', 'unt.tgfb.DEtranslation',\n",
      "       'tgfb.tgfbCX5461.DEtranslation', 'reversible.translation', 'biotype'],\n",
      "      dtype='object')\n",
      "(11116, 13)\n"
     ]
    }
   ],
   "source": [
    "print(df_all.keys())\n",
    "\n",
    "df = ( df_all >>\n",
    "  mask(df_all.biotype =='protein_coding')) #>>\n",
    " # mask(df_all. == 'up'))\n",
    "\n",
    "df = df.filter(regex=r'translation|biotype')\n",
    "df = df.dropna(how='all')\n",
    "print(df.shape)"
   ]
  },
  {
   "cell_type": "code",
   "execution_count": 33,
   "id": "e8fde142-1bf8-43aa-89d8-0c96c1b50118",
   "metadata": {},
   "outputs": [
    {
     "name": "stdout",
     "output_type": "stream",
     "text": [
      "Dimesnsion of the dataFrame df_poly : (4487, 13) \n",
      "\n"
     ]
    },
    {
     "data": {
      "text/html": [
       "<div>\n",
       "<style scoped>\n",
       "    .dataframe tbody tr th:only-of-type {\n",
       "        vertical-align: middle;\n",
       "    }\n",
       "\n",
       "    .dataframe tbody tr th {\n",
       "        vertical-align: top;\n",
       "    }\n",
       "\n",
       "    .dataframe thead th {\n",
       "        text-align: right;\n",
       "    }\n",
       "</style>\n",
       "<table border=\"1\" class=\"dataframe\">\n",
       "  <thead>\n",
       "    <tr style=\"text-align: right;\">\n",
       "      <th></th>\n",
       "      <th>unt.translation</th>\n",
       "      <th>tgfb.translation</th>\n",
       "      <th>tgfbCX5461.translation</th>\n",
       "      <th>log2FCuntVStgfb.translation</th>\n",
       "      <th>FDRuntVStgfb.translation</th>\n",
       "      <th>PuntVStgfb.translation</th>\n",
       "      <th>log2FCtgfbVStgfbCX5461.translation</th>\n",
       "      <th>FDRtgfbVStgfbCX5461.translation</th>\n",
       "      <th>PtgfbVStgfbCX5461.translation</th>\n",
       "      <th>unt.tgfb.DEtranslation</th>\n",
       "      <th>tgfb.tgfbCX5461.DEtranslation</th>\n",
       "      <th>reversible.translation</th>\n",
       "      <th>biotype</th>\n",
       "    </tr>\n",
       "    <tr>\n",
       "      <th>rownames</th>\n",
       "      <th></th>\n",
       "      <th></th>\n",
       "      <th></th>\n",
       "      <th></th>\n",
       "      <th></th>\n",
       "      <th></th>\n",
       "      <th></th>\n",
       "      <th></th>\n",
       "      <th></th>\n",
       "      <th></th>\n",
       "      <th></th>\n",
       "      <th></th>\n",
       "      <th></th>\n",
       "    </tr>\n",
       "  </thead>\n",
       "  <tbody>\n",
       "    <tr>\n",
       "      <th>0610010F05Rik</th>\n",
       "      <td>0.236436</td>\n",
       "      <td>0.931427</td>\n",
       "      <td>0.134240</td>\n",
       "      <td>0.694990</td>\n",
       "      <td>0.002980</td>\n",
       "      <td>6.715400e-04</td>\n",
       "      <td>-0.797187</td>\n",
       "      <td>0.004750</td>\n",
       "      <td>0.000394</td>\n",
       "      <td>up</td>\n",
       "      <td>down</td>\n",
       "      <td>upDown</td>\n",
       "      <td>protein_coding</td>\n",
       "    </tr>\n",
       "    <tr>\n",
       "      <th>0610010K14Rik</th>\n",
       "      <td>-0.599006</td>\n",
       "      <td>-1.339853</td>\n",
       "      <td>-1.221996</td>\n",
       "      <td>-0.740848</td>\n",
       "      <td>0.025923</td>\n",
       "      <td>8.925298e-03</td>\n",
       "      <td>0.117857</td>\n",
       "      <td>0.839611</td>\n",
       "      <td>0.705715</td>\n",
       "      <td>down</td>\n",
       "      <td>notSig</td>\n",
       "      <td>notSig</td>\n",
       "      <td>protein_coding</td>\n",
       "    </tr>\n",
       "    <tr>\n",
       "      <th>0610040J01Rik</th>\n",
       "      <td>-0.806454</td>\n",
       "      <td>-4.620140</td>\n",
       "      <td>-3.007701</td>\n",
       "      <td>-3.813686</td>\n",
       "      <td>0.000003</td>\n",
       "      <td>2.372000e-07</td>\n",
       "      <td>1.612438</td>\n",
       "      <td>0.094293</td>\n",
       "      <td>0.021693</td>\n",
       "      <td>down</td>\n",
       "      <td>notSig</td>\n",
       "      <td>notSig</td>\n",
       "      <td>protein_coding</td>\n",
       "    </tr>\n",
       "    <tr>\n",
       "      <th>1110008P14Rik</th>\n",
       "      <td>0.911071</td>\n",
       "      <td>0.387442</td>\n",
       "      <td>0.767525</td>\n",
       "      <td>-0.523629</td>\n",
       "      <td>0.036253</td>\n",
       "      <td>1.348448e-02</td>\n",
       "      <td>0.380083</td>\n",
       "      <td>0.232230</td>\n",
       "      <td>0.083258</td>\n",
       "      <td>down</td>\n",
       "      <td>notSig</td>\n",
       "      <td>notSig</td>\n",
       "      <td>protein_coding</td>\n",
       "    </tr>\n",
       "    <tr>\n",
       "      <th>1110038F14Rik</th>\n",
       "      <td>-0.258387</td>\n",
       "      <td>-0.843218</td>\n",
       "      <td>-0.945695</td>\n",
       "      <td>-0.584830</td>\n",
       "      <td>0.028654</td>\n",
       "      <td>1.008270e-02</td>\n",
       "      <td>-0.102477</td>\n",
       "      <td>0.828061</td>\n",
       "      <td>0.683834</td>\n",
       "      <td>down</td>\n",
       "      <td>notSig</td>\n",
       "      <td>notSig</td>\n",
       "      <td>protein_coding</td>\n",
       "    </tr>\n",
       "  </tbody>\n",
       "</table>\n",
       "</div>"
      ],
      "text/plain": [
       "               unt.translation  tgfb.translation  tgfbCX5461.translation  \\\n",
       "rownames                                                                   \n",
       "0610010F05Rik         0.236436          0.931427                0.134240   \n",
       "0610010K14Rik        -0.599006         -1.339853               -1.221996   \n",
       "0610040J01Rik        -0.806454         -4.620140               -3.007701   \n",
       "1110008P14Rik         0.911071          0.387442                0.767525   \n",
       "1110038F14Rik        -0.258387         -0.843218               -0.945695   \n",
       "\n",
       "               log2FCuntVStgfb.translation  FDRuntVStgfb.translation  \\\n",
       "rownames                                                               \n",
       "0610010F05Rik                     0.694990                  0.002980   \n",
       "0610010K14Rik                    -0.740848                  0.025923   \n",
       "0610040J01Rik                    -3.813686                  0.000003   \n",
       "1110008P14Rik                    -0.523629                  0.036253   \n",
       "1110038F14Rik                    -0.584830                  0.028654   \n",
       "\n",
       "               PuntVStgfb.translation  log2FCtgfbVStgfbCX5461.translation  \\\n",
       "rownames                                                                    \n",
       "0610010F05Rik            6.715400e-04                           -0.797187   \n",
       "0610010K14Rik            8.925298e-03                            0.117857   \n",
       "0610040J01Rik            2.372000e-07                            1.612438   \n",
       "1110008P14Rik            1.348448e-02                            0.380083   \n",
       "1110038F14Rik            1.008270e-02                           -0.102477   \n",
       "\n",
       "               FDRtgfbVStgfbCX5461.translation  PtgfbVStgfbCX5461.translation  \\\n",
       "rownames                                                                        \n",
       "0610010F05Rik                         0.004750                       0.000394   \n",
       "0610010K14Rik                         0.839611                       0.705715   \n",
       "0610040J01Rik                         0.094293                       0.021693   \n",
       "1110008P14Rik                         0.232230                       0.083258   \n",
       "1110038F14Rik                         0.828061                       0.683834   \n",
       "\n",
       "              unt.tgfb.DEtranslation tgfb.tgfbCX5461.DEtranslation  \\\n",
       "rownames                                                             \n",
       "0610010F05Rik                     up                          down   \n",
       "0610010K14Rik                   down                        notSig   \n",
       "0610040J01Rik                   down                        notSig   \n",
       "1110008P14Rik                   down                        notSig   \n",
       "1110038F14Rik                   down                        notSig   \n",
       "\n",
       "              reversible.translation         biotype  \n",
       "rownames                                              \n",
       "0610010F05Rik                 upDown  protein_coding  \n",
       "0610010K14Rik                 notSig  protein_coding  \n",
       "0610040J01Rik                 notSig  protein_coding  \n",
       "1110008P14Rik                 notSig  protein_coding  \n",
       "1110038F14Rik                 notSig  protein_coding  "
      ]
     },
     "execution_count": 33,
     "metadata": {},
     "output_type": "execute_result"
    }
   ],
   "source": [
    "df_poly = df[(df['unt.tgfb.DEtranslation'] == 'up') | (df['unt.tgfb.DEtranslation'] == 'down')]\n",
    "\n",
    "print('Dimesnsion of the dataFrame df_poly :', df_poly.shape, '\\n')\n",
    "df_poly.head()"
   ]
  },
  {
   "cell_type": "code",
   "execution_count": 34,
   "id": "6f2c953e-787c-4194-8c1c-21340242aa6b",
   "metadata": {},
   "outputs": [
    {
     "name": "stdout",
     "output_type": "stream",
     "text": [
      "Index(['unt.translation', 'tgfb.translation', 'tgfbCX5461.translation',\n",
      "       'log2FCuntVStgfb.translation', 'FDRuntVStgfb.translation',\n",
      "       'PuntVStgfb.translation', 'log2FCtgfbVStgfbCX5461.translation',\n",
      "       'FDRtgfbVStgfbCX5461.translation', 'PtgfbVStgfbCX5461.translation',\n",
      "       'unt.tgfb.DEtranslation', 'tgfb.tgfbCX5461.DEtranslation',\n",
      "       'reversible.translation', 'biotype'],\n",
      "      dtype='object')\n",
      "Dimesnsion of the dataFrame df_poly_upDown : (189, 13)\n",
      "Dimesnsion of the dataFrame df_poly_downUp : (234, 13)\n",
      "reversible.translation\n",
      "notSig                    4064\n",
      "downUp                     234\n",
      "upDown                     189\n",
      "dtype: int64\n"
     ]
    }
   ],
   "source": [
    "print(df.keys())\n",
    "df_poly_upDown = df[(df['reversible.translation']== 'upDown')]\n",
    "df_poly_downUp = df[(df['reversible.translation']== 'downUp')]\n",
    "\n",
    "print('Dimesnsion of the dataFrame df_poly_upDown :', df_poly_upDown.shape)\n",
    "print('Dimesnsion of the dataFrame df_poly_downUp :', df_poly_downUp.shape)\n",
    "\n",
    "print(df_poly[['reversible.translation']].value_counts())"
   ]
  },
  {
   "cell_type": "markdown",
   "id": "b162c83e-6a22-44ee-9a5d-658a4952dbd7",
   "metadata": {},
   "source": [
    "# Polysome RNAseq and total input proteomics Venn diagram"
   ]
  },
  {
   "cell_type": "markdown",
   "id": "d6b78b56-ae12-4156-ad04-cda31fd1eef3",
   "metadata": {},
   "source": [
    "## Venn diagram Poly RNA-seq and total input proteomics"
   ]
  },
  {
   "cell_type": "markdown",
   "id": "0d8a63fe-ed31-41b9-98e5-19ebd5049301",
   "metadata": {},
   "source": [
    "### upDown"
   ]
  },
  {
   "cell_type": "code",
   "execution_count": 35,
   "id": "6dcb1b3b-4d16-4e05-9d0f-93e4f506895e",
   "metadata": {},
   "outputs": [
    {
     "data": {
      "image/png": "[encoded data removed]",
      "text/plain": [
       "<Figure size 500x500 with 1 Axes>"
      ]
     },
     "metadata": {},
     "output_type": "display_data"
    }
   ],
   "source": [
    "plt.rcParams['figure.figsize'] = [5, 5] # plt.figure plot very big file if dpi is over 100\n",
    "A = set(df_poly_upDown.index)\n",
    "B = set(total_proteomics_upDown.index)\n",
    "v = venn2([A, B], ('Poly-seq', 'Proteomics')) # venn2 works for two sets\n",
    "#v.get_label_by_id('11').set_text('\\n'.join(A&B))\n",
    "\n",
    "plt.annotate('\\n'.join(sorted(A&B)), xy=v.get_label_by_id('11').get_position() +\n",
    "             np.array([0, 0.1]), xytext=(2,60), ha='center',\n",
    "             textcoords='offset points', \n",
    "             bbox=dict(boxstyle='round,pad=0.5', fc='gray', alpha=0.1),\n",
    "             arrowprops=dict(arrowstyle='->',              \n",
    "                             connectionstyle='arc',color='gray'))\n",
    "\n",
    "plt.tight_layout()\n",
    "plt.savefig('./tiff/upDown Venn diagram Poly-seq and total input proteomics.tiff', dpi=500)\n",
    "plt.savefig('./pdf/upDown Venn diagram Poly-seq and total input proteomics.pdf', dpi=500)"
   ]
  },
  {
   "cell_type": "markdown",
   "id": "74bb407f-a651-49c0-a3a2-126c0c80f5a5",
   "metadata": {},
   "source": [
    "### downUp"
   ]
  },
  {
   "cell_type": "code",
   "execution_count": 36,
   "id": "30b26369-4d17-4ea7-acd4-e7de2bc840d8",
   "metadata": {},
   "outputs": [
    {
     "data": {
      "image/png": "[encoded data removed]",
      "text/plain": [
       "<Figure size 500x500 with 1 Axes>"
      ]
     },
     "metadata": {},
     "output_type": "display_data"
    }
   ],
   "source": [
    "plt.rcParams['figure.figsize'] = [5, 5] # plt.figure plot very big file if dpi is over 100\n",
    "A = set(df_poly_downUp.index)\n",
    "B = set(total_proteomics_downUp.index)\n",
    "v = venn2([A, B], ('Poly-seq', 'Proteomics')) # venn2 works for two sets\n",
    "#v.get_label_by_id('11').set_text('\\n'.join(A&B))\n",
    "\n",
    "plt.annotate('\\n'.join(sorted(A&B)), xy=v.get_label_by_id('11').get_position() +\n",
    "             np.array([0, 0.1]), xytext=(2,60), ha='center',\n",
    "             textcoords='offset points', \n",
    "             bbox=dict(boxstyle='round,pad=0.5', fc='gray', alpha=0.1),\n",
    "             arrowprops=dict(arrowstyle='->',              \n",
    "                             connectionstyle='arc',color='gray'))\n",
    "\n",
    "plt.tight_layout()\n",
    "plt.savefig('./tiff/downUp Venn diagram Poly-seq and total input proteomics.tiff', dpi=500)\n",
    "plt.savefig('./pdf/downUp Venn diagram Poly-seq and total input proteomics.pdf', dpi=500)"
   ]
  },
  {
   "cell_type": "markdown",
   "id": "7bf27a3f-a851-41f7-be92-8822f8e2e88c",
   "metadata": {
    "tags": []
   },
   "source": [
    "# Polysome RNAseq and polysome proteomics Venn diagram"
   ]
  },
  {
   "cell_type": "markdown",
   "id": "6e26ff9a-3c80-4e71-a8d0-8622f6a40b49",
   "metadata": {},
   "source": [
    "## Venn diagram Poly RNA-seq and Polysome proteomics"
   ]
  },
  {
   "cell_type": "markdown",
   "id": "370ecadc-b188-460d-98c5-dc8a3768e5bc",
   "metadata": {},
   "source": [
    "### upDown"
   ]
  },
  {
   "cell_type": "code",
   "execution_count": 37,
   "id": "5e28420a-b784-4bf4-a5ec-5a58e60631dc",
   "metadata": {},
   "outputs": [
    {
     "data": {
      "image/png": "[encoded data removed]",
      "text/plain": [
       "<Figure size 500x500 with 1 Axes>"
      ]
     },
     "metadata": {},
     "output_type": "display_data"
    }
   ],
   "source": [
    "plt.rcParams['figure.figsize'] = [5, 5] # plt.figure plot very big file if dpi is over 100\n",
    "A = set(df_poly_upDown.index)\n",
    "B = set(total_poly_upDown.index)\n",
    "v = venn2([A, B], ('Poly-seq', 'Proteomics')) # venn2 works for two sets\n",
    "#v.get_label_by_id('11').set_text('\\n'.join(A&B))\n",
    "\n",
    "plt.annotate('\\n'.join(sorted(A&B)), xy=v.get_label_by_id('11').get_position() +\n",
    "             np.array([0, 0.1]), xytext=(2,60), ha='center',\n",
    "             textcoords='offset points', \n",
    "             bbox=dict(boxstyle='round,pad=0.5', fc='gray', alpha=0.1),\n",
    "             arrowprops=dict(arrowstyle='->',              \n",
    "                             connectionstyle='arc',color='gray'))\n",
    "\n",
    "plt.tight_layout()\n",
    "plt.savefig('./tiff/upDown Venn diagram Poly-seq and Polysome proteomics.tiff', dpi=500)\n",
    "plt.savefig('./pdf/upDown Venn diagram Poly-seq and Polysome proteomics.pdf', dpi=500)"
   ]
  },
  {
   "cell_type": "markdown",
   "id": "253db637-2bee-481d-acc8-0f3d85e86462",
   "metadata": {},
   "source": [
    "### downUp"
   ]
  },
  {
   "cell_type": "code",
   "execution_count": 38,
   "id": "5201e264-5993-4f8b-a86a-06b02c4632dd",
   "metadata": {},
   "outputs": [
    {
     "data": {
      "image/png": "[encoded data removed]",
      "text/plain": [
       "<Figure size 500x500 with 1 Axes>"
      ]
     },
     "metadata": {},
     "output_type": "display_data"
    }
   ],
   "source": [
    "plt.rcParams['figure.figsize'] = [5, 5] # plt.figure plot very big file if dpi is over 100\n",
    "A = set(df_poly_downUp.index)\n",
    "B = set(total_poly_downUp.index)\n",
    "v = venn2([A, B], ('Poly-seq', 'Proteomics')) # venn2 works for two sets\n",
    "#v.get_label_by_id('11').set_text('\\n'.join(A&B))\n",
    "\n",
    "plt.annotate('\\n'.join(sorted(A&B)), xy=v.get_label_by_id('11').get_position() +\n",
    "             np.array([0, 0.1]), xytext=(2,60), ha='center',\n",
    "             textcoords='offset points', \n",
    "             bbox=dict(boxstyle='round,pad=0.5', fc='gray', alpha=0.1),\n",
    "             arrowprops=dict(arrowstyle='->',              \n",
    "                             connectionstyle='arc',color='gray'))\n",
    "\n",
    "plt.tight_layout()\n",
    "plt.savefig('./tiff/downUp Venn diagram Poly-seq and Polysome proteomics.tiff', dpi=500)\n",
    "plt.savefig('./pdf/downUp Venn diagram Poly-seq and Polysome proteomics.pdf', dpi=500)"
   ]
  },
  {
   "cell_type": "markdown",
   "id": "8937e0b2-e30c-4a4c-a1e4-4e8f17499d9d",
   "metadata": {},
   "source": [
    "# Monosome RNAseq and total input proteomics Venn diagram"
   ]
  },
  {
   "cell_type": "code",
   "execution_count": 39,
   "id": "6e0d629e-b5ce-4617-9ff6-9ea7e0d1b4af",
   "metadata": {},
   "outputs": [
    {
     "name": "stdout",
     "output_type": "stream",
     "text": [
      "Load R workspace image (.RData) file in Python\n",
      "\n",
      "Name of all files/function/variables in Rdata image\n",
      "\n",
      "odict_keys(['df_monosome']) \n",
      "\n",
      "Dimesnsion of the dataFrame df_all : (9536, 19) \n",
      "\n"
     ]
    },
    {
     "data": {
      "text/html": [
       "<div>\n",
       "<style scoped>\n",
       "    .dataframe tbody tr th:only-of-type {\n",
       "        vertical-align: middle;\n",
       "    }\n",
       "\n",
       "    .dataframe tbody tr th {\n",
       "        vertical-align: top;\n",
       "    }\n",
       "\n",
       "    .dataframe thead th {\n",
       "        text-align: right;\n",
       "    }\n",
       "</style>\n",
       "<table border=\"1\" class=\"dataframe\">\n",
       "  <thead>\n",
       "    <tr style=\"text-align: right;\">\n",
       "      <th></th>\n",
       "      <th>seqnames</th>\n",
       "      <th>start</th>\n",
       "      <th>end</th>\n",
       "      <th>width</th>\n",
       "      <th>strand</th>\n",
       "      <th>source</th>\n",
       "      <th>unt.monosome</th>\n",
       "      <th>tgfb.monosome</th>\n",
       "      <th>tgfbCX5461.monosome</th>\n",
       "      <th>log2FCuntVStgfb.monosome</th>\n",
       "      <th>FDRuntVStgfb.monosome</th>\n",
       "      <th>PuntVStgfb.monosome</th>\n",
       "      <th>log2FCtgfbVStgfbCX5461.monosome</th>\n",
       "      <th>FDRtgfbVStgfbCX5461.monosome</th>\n",
       "      <th>PtgfbVStgfbCX5461.monosome</th>\n",
       "      <th>unt.tgfb.DEmonosome</th>\n",
       "      <th>tgfb.tgfbCX5461.DEmonosome</th>\n",
       "      <th>reversible.monosome</th>\n",
       "      <th>biotype</th>\n",
       "    </tr>\n",
       "    <tr>\n",
       "      <th>rownames</th>\n",
       "      <th></th>\n",
       "      <th></th>\n",
       "      <th></th>\n",
       "      <th></th>\n",
       "      <th></th>\n",
       "      <th></th>\n",
       "      <th></th>\n",
       "      <th></th>\n",
       "      <th></th>\n",
       "      <th></th>\n",
       "      <th></th>\n",
       "      <th></th>\n",
       "      <th></th>\n",
       "      <th></th>\n",
       "      <th></th>\n",
       "      <th></th>\n",
       "      <th></th>\n",
       "      <th></th>\n",
       "      <th></th>\n",
       "    </tr>\n",
       "  </thead>\n",
       "  <tbody>\n",
       "    <tr>\n",
       "      <th>0610009B22Rik</th>\n",
       "      <td>11</td>\n",
       "      <td>51576213</td>\n",
       "      <td>51579701</td>\n",
       "      <td>3489</td>\n",
       "      <td>-</td>\n",
       "      <td>ensembl_havana</td>\n",
       "      <td>-4.802467</td>\n",
       "      <td>-3.917779</td>\n",
       "      <td>-4.237664</td>\n",
       "      <td>0.884688</td>\n",
       "      <td>0.434934</td>\n",
       "      <td>0.230691</td>\n",
       "      <td>-0.319884</td>\n",
       "      <td>0.886113</td>\n",
       "      <td>0.622583</td>\n",
       "      <td>notSig</td>\n",
       "      <td>notSig</td>\n",
       "      <td>notSig</td>\n",
       "      <td>protein_coding</td>\n",
       "    </tr>\n",
       "    <tr>\n",
       "      <th>0610010F05Rik</th>\n",
       "      <td>11</td>\n",
       "      <td>23514961</td>\n",
       "      <td>23583639</td>\n",
       "      <td>68679</td>\n",
       "      <td>-</td>\n",
       "      <td>ensembl_havana</td>\n",
       "      <td>-3.602165</td>\n",
       "      <td>-2.776520</td>\n",
       "      <td>-3.001745</td>\n",
       "      <td>0.825644</td>\n",
       "      <td>0.283807</td>\n",
       "      <td>0.119221</td>\n",
       "      <td>-0.225224</td>\n",
       "      <td>0.878598</td>\n",
       "      <td>0.605528</td>\n",
       "      <td>notSig</td>\n",
       "      <td>notSig</td>\n",
       "      <td>notSig</td>\n",
       "      <td>protein_coding</td>\n",
       "    </tr>\n",
       "    <tr>\n",
       "      <th>0610010K14Rik</th>\n",
       "      <td>11</td>\n",
       "      <td>70126032</td>\n",
       "      <td>70128740</td>\n",
       "      <td>2709</td>\n",
       "      <td>-</td>\n",
       "      <td>ensembl_havana</td>\n",
       "      <td>-3.237887</td>\n",
       "      <td>-3.662633</td>\n",
       "      <td>-3.960501</td>\n",
       "      <td>-0.424747</td>\n",
       "      <td>0.623032</td>\n",
       "      <td>0.416453</td>\n",
       "      <td>-0.297868</td>\n",
       "      <td>0.880184</td>\n",
       "      <td>0.608818</td>\n",
       "      <td>notSig</td>\n",
       "      <td>notSig</td>\n",
       "      <td>notSig</td>\n",
       "      <td>protein_coding</td>\n",
       "    </tr>\n",
       "    <tr>\n",
       "      <th>0610012G03Rik</th>\n",
       "      <td>16</td>\n",
       "      <td>31765868</td>\n",
       "      <td>31767312</td>\n",
       "      <td>1445</td>\n",
       "      <td>-</td>\n",
       "      <td>havana</td>\n",
       "      <td>-1.009249</td>\n",
       "      <td>-1.369235</td>\n",
       "      <td>-0.927488</td>\n",
       "      <td>-0.359986</td>\n",
       "      <td>0.409575</td>\n",
       "      <td>0.210672</td>\n",
       "      <td>0.441747</td>\n",
       "      <td>0.518890</td>\n",
       "      <td>0.110244</td>\n",
       "      <td>notSig</td>\n",
       "      <td>notSig</td>\n",
       "      <td>notSig</td>\n",
       "      <td>protein_coding</td>\n",
       "    </tr>\n",
       "    <tr>\n",
       "      <th>0610030E20Rik</th>\n",
       "      <td>6</td>\n",
       "      <td>72324300</td>\n",
       "      <td>72330131</td>\n",
       "      <td>5832</td>\n",
       "      <td>+</td>\n",
       "      <td>ensembl_havana</td>\n",
       "      <td>-3.098328</td>\n",
       "      <td>-3.524003</td>\n",
       "      <td>-3.779015</td>\n",
       "      <td>-0.425675</td>\n",
       "      <td>0.622282</td>\n",
       "      <td>0.415290</td>\n",
       "      <td>-0.255012</td>\n",
       "      <td>0.894857</td>\n",
       "      <td>0.648177</td>\n",
       "      <td>notSig</td>\n",
       "      <td>notSig</td>\n",
       "      <td>notSig</td>\n",
       "      <td>protein_coding</td>\n",
       "    </tr>\n",
       "  </tbody>\n",
       "</table>\n",
       "</div>"
      ],
      "text/plain": [
       "              seqnames     start       end  width strand          source  \\\n",
       "rownames                                                                   \n",
       "0610009B22Rik       11  51576213  51579701   3489      -  ensembl_havana   \n",
       "0610010F05Rik       11  23514961  23583639  68679      -  ensembl_havana   \n",
       "0610010K14Rik       11  70126032  70128740   2709      -  ensembl_havana   \n",
       "0610012G03Rik       16  31765868  31767312   1445      -          havana   \n",
       "0610030E20Rik        6  72324300  72330131   5832      +  ensembl_havana   \n",
       "\n",
       "               unt.monosome  tgfb.monosome  tgfbCX5461.monosome  \\\n",
       "rownames                                                          \n",
       "0610009B22Rik     -4.802467      -3.917779            -4.237664   \n",
       "0610010F05Rik     -3.602165      -2.776520            -3.001745   \n",
       "0610010K14Rik     -3.237887      -3.662633            -3.960501   \n",
       "0610012G03Rik     -1.009249      -1.369235            -0.927488   \n",
       "0610030E20Rik     -3.098328      -3.524003            -3.779015   \n",
       "\n",
       "               log2FCuntVStgfb.monosome  FDRuntVStgfb.monosome  \\\n",
       "rownames                                                         \n",
       "0610009B22Rik                  0.884688               0.434934   \n",
       "0610010F05Rik                  0.825644               0.283807   \n",
       "0610010K14Rik                 -0.424747               0.623032   \n",
       "0610012G03Rik                 -0.359986               0.409575   \n",
       "0610030E20Rik                 -0.425675               0.622282   \n",
       "\n",
       "               PuntVStgfb.monosome  log2FCtgfbVStgfbCX5461.monosome  \\\n",
       "rownames                                                              \n",
       "0610009B22Rik             0.230691                        -0.319884   \n",
       "0610010F05Rik             0.119221                        -0.225224   \n",
       "0610010K14Rik             0.416453                        -0.297868   \n",
       "0610012G03Rik             0.210672                         0.441747   \n",
       "0610030E20Rik             0.415290                        -0.255012   \n",
       "\n",
       "               FDRtgfbVStgfbCX5461.monosome  PtgfbVStgfbCX5461.monosome  \\\n",
       "rownames                                                                  \n",
       "0610009B22Rik                      0.886113                    0.622583   \n",
       "0610010F05Rik                      0.878598                    0.605528   \n",
       "0610010K14Rik                      0.880184                    0.608818   \n",
       "0610012G03Rik                      0.518890                    0.110244   \n",
       "0610030E20Rik                      0.894857                    0.648177   \n",
       "\n",
       "              unt.tgfb.DEmonosome tgfb.tgfbCX5461.DEmonosome  \\\n",
       "rownames                                                       \n",
       "0610009B22Rik              notSig                     notSig   \n",
       "0610010F05Rik              notSig                     notSig   \n",
       "0610010K14Rik              notSig                     notSig   \n",
       "0610012G03Rik              notSig                     notSig   \n",
       "0610030E20Rik              notSig                     notSig   \n",
       "\n",
       "              reversible.monosome         biotype  \n",
       "rownames                                           \n",
       "0610009B22Rik              notSig  protein_coding  \n",
       "0610010F05Rik              notSig  protein_coding  \n",
       "0610010K14Rik              notSig  protein_coding  \n",
       "0610012G03Rik              notSig  protein_coding  \n",
       "0610030E20Rik              notSig  protein_coding  "
      ]
     },
     "execution_count": 39,
     "metadata": {},
     "output_type": "execute_result"
    }
   ],
   "source": [
    "print('Load R workspace image (.RData) file in Python\\n')\n",
    "result = pyreadr.read_r('C:/Users/nmishra/Desktop/EMT-2022-August/Polysomes RNAseq EMT/jupyter codes/Monosome/rdata/riboprof_170224.rdna_rn18s_161021.rdna_rn18s_limma-voom.mrna.rdata') # by using pyreadr\n",
    "print('Name of all files/function/variables in Rdata image\\n')\n",
    "print(result.keys(), '\\n') # Name of all files/function/variables in Rdata image\n",
    "\n",
    "df_all = result[\"df_monosome\"]\n",
    "\n",
    "print('Dimesnsion of the dataFrame df_all :', df_all.shape,\"\\n\")\n",
    "df_all.head()"
   ]
  },
  {
   "cell_type": "code",
   "execution_count": 40,
   "id": "922efe49-cf8f-436a-ba19-2e1f3f13619f",
   "metadata": {},
   "outputs": [
    {
     "name": "stdout",
     "output_type": "stream",
     "text": [
      "Index(['seqnames', 'start', 'end', 'width', 'strand', 'source', 'unt.monosome',\n",
      "       'tgfb.monosome', 'tgfbCX5461.monosome', 'log2FCuntVStgfb.monosome',\n",
      "       'FDRuntVStgfb.monosome', 'PuntVStgfb.monosome',\n",
      "       'log2FCtgfbVStgfbCX5461.monosome', 'FDRtgfbVStgfbCX5461.monosome',\n",
      "       'PtgfbVStgfbCX5461.monosome', 'unt.tgfb.DEmonosome',\n",
      "       'tgfb.tgfbCX5461.DEmonosome', 'reversible.monosome', 'biotype'],\n",
      "      dtype='object')\n",
      "(9098, 13)\n"
     ]
    },
    {
     "data": {
      "text/html": [
       "<div>\n",
       "<style scoped>\n",
       "    .dataframe tbody tr th:only-of-type {\n",
       "        vertical-align: middle;\n",
       "    }\n",
       "\n",
       "    .dataframe tbody tr th {\n",
       "        vertical-align: top;\n",
       "    }\n",
       "\n",
       "    .dataframe thead th {\n",
       "        text-align: right;\n",
       "    }\n",
       "</style>\n",
       "<table border=\"1\" class=\"dataframe\">\n",
       "  <thead>\n",
       "    <tr style=\"text-align: right;\">\n",
       "      <th></th>\n",
       "      <th>unt.monosome</th>\n",
       "      <th>tgfb.monosome</th>\n",
       "      <th>tgfbCX5461.monosome</th>\n",
       "      <th>log2FCuntVStgfb.monosome</th>\n",
       "      <th>FDRuntVStgfb.monosome</th>\n",
       "      <th>PuntVStgfb.monosome</th>\n",
       "      <th>log2FCtgfbVStgfbCX5461.monosome</th>\n",
       "      <th>FDRtgfbVStgfbCX5461.monosome</th>\n",
       "      <th>PtgfbVStgfbCX5461.monosome</th>\n",
       "      <th>unt.tgfb.DEmonosome</th>\n",
       "      <th>tgfb.tgfbCX5461.DEmonosome</th>\n",
       "      <th>reversible.monosome</th>\n",
       "      <th>biotype</th>\n",
       "    </tr>\n",
       "    <tr>\n",
       "      <th>rownames</th>\n",
       "      <th></th>\n",
       "      <th></th>\n",
       "      <th></th>\n",
       "      <th></th>\n",
       "      <th></th>\n",
       "      <th></th>\n",
       "      <th></th>\n",
       "      <th></th>\n",
       "      <th></th>\n",
       "      <th></th>\n",
       "      <th></th>\n",
       "      <th></th>\n",
       "      <th></th>\n",
       "    </tr>\n",
       "  </thead>\n",
       "  <tbody>\n",
       "    <tr>\n",
       "      <th>0610009B22Rik</th>\n",
       "      <td>-4.802467</td>\n",
       "      <td>-3.917779</td>\n",
       "      <td>-4.237664</td>\n",
       "      <td>0.884688</td>\n",
       "      <td>0.434934</td>\n",
       "      <td>0.230691</td>\n",
       "      <td>-0.319884</td>\n",
       "      <td>0.886113</td>\n",
       "      <td>0.622583</td>\n",
       "      <td>notSig</td>\n",
       "      <td>notSig</td>\n",
       "      <td>notSig</td>\n",
       "      <td>protein_coding</td>\n",
       "    </tr>\n",
       "    <tr>\n",
       "      <th>0610010F05Rik</th>\n",
       "      <td>-3.602165</td>\n",
       "      <td>-2.776520</td>\n",
       "      <td>-3.001745</td>\n",
       "      <td>0.825644</td>\n",
       "      <td>0.283807</td>\n",
       "      <td>0.119221</td>\n",
       "      <td>-0.225224</td>\n",
       "      <td>0.878598</td>\n",
       "      <td>0.605528</td>\n",
       "      <td>notSig</td>\n",
       "      <td>notSig</td>\n",
       "      <td>notSig</td>\n",
       "      <td>protein_coding</td>\n",
       "    </tr>\n",
       "    <tr>\n",
       "      <th>0610010K14Rik</th>\n",
       "      <td>-3.237887</td>\n",
       "      <td>-3.662633</td>\n",
       "      <td>-3.960501</td>\n",
       "      <td>-0.424747</td>\n",
       "      <td>0.623032</td>\n",
       "      <td>0.416453</td>\n",
       "      <td>-0.297868</td>\n",
       "      <td>0.880184</td>\n",
       "      <td>0.608818</td>\n",
       "      <td>notSig</td>\n",
       "      <td>notSig</td>\n",
       "      <td>notSig</td>\n",
       "      <td>protein_coding</td>\n",
       "    </tr>\n",
       "    <tr>\n",
       "      <th>0610012G03Rik</th>\n",
       "      <td>-1.009249</td>\n",
       "      <td>-1.369235</td>\n",
       "      <td>-0.927488</td>\n",
       "      <td>-0.359986</td>\n",
       "      <td>0.409575</td>\n",
       "      <td>0.210672</td>\n",
       "      <td>0.441747</td>\n",
       "      <td>0.518890</td>\n",
       "      <td>0.110244</td>\n",
       "      <td>notSig</td>\n",
       "      <td>notSig</td>\n",
       "      <td>notSig</td>\n",
       "      <td>protein_coding</td>\n",
       "    </tr>\n",
       "    <tr>\n",
       "      <th>0610030E20Rik</th>\n",
       "      <td>-3.098328</td>\n",
       "      <td>-3.524003</td>\n",
       "      <td>-3.779015</td>\n",
       "      <td>-0.425675</td>\n",
       "      <td>0.622282</td>\n",
       "      <td>0.415290</td>\n",
       "      <td>-0.255012</td>\n",
       "      <td>0.894857</td>\n",
       "      <td>0.648177</td>\n",
       "      <td>notSig</td>\n",
       "      <td>notSig</td>\n",
       "      <td>notSig</td>\n",
       "      <td>protein_coding</td>\n",
       "    </tr>\n",
       "  </tbody>\n",
       "</table>\n",
       "</div>"
      ],
      "text/plain": [
       "               unt.monosome  tgfb.monosome  tgfbCX5461.monosome  \\\n",
       "rownames                                                          \n",
       "0610009B22Rik     -4.802467      -3.917779            -4.237664   \n",
       "0610010F05Rik     -3.602165      -2.776520            -3.001745   \n",
       "0610010K14Rik     -3.237887      -3.662633            -3.960501   \n",
       "0610012G03Rik     -1.009249      -1.369235            -0.927488   \n",
       "0610030E20Rik     -3.098328      -3.524003            -3.779015   \n",
       "\n",
       "               log2FCuntVStgfb.monosome  FDRuntVStgfb.monosome  \\\n",
       "rownames                                                         \n",
       "0610009B22Rik                  0.884688               0.434934   \n",
       "0610010F05Rik                  0.825644               0.283807   \n",
       "0610010K14Rik                 -0.424747               0.623032   \n",
       "0610012G03Rik                 -0.359986               0.409575   \n",
       "0610030E20Rik                 -0.425675               0.622282   \n",
       "\n",
       "               PuntVStgfb.monosome  log2FCtgfbVStgfbCX5461.monosome  \\\n",
       "rownames                                                              \n",
       "0610009B22Rik             0.230691                        -0.319884   \n",
       "0610010F05Rik             0.119221                        -0.225224   \n",
       "0610010K14Rik             0.416453                        -0.297868   \n",
       "0610012G03Rik             0.210672                         0.441747   \n",
       "0610030E20Rik             0.415290                        -0.255012   \n",
       "\n",
       "               FDRtgfbVStgfbCX5461.monosome  PtgfbVStgfbCX5461.monosome  \\\n",
       "rownames                                                                  \n",
       "0610009B22Rik                      0.886113                    0.622583   \n",
       "0610010F05Rik                      0.878598                    0.605528   \n",
       "0610010K14Rik                      0.880184                    0.608818   \n",
       "0610012G03Rik                      0.518890                    0.110244   \n",
       "0610030E20Rik                      0.894857                    0.648177   \n",
       "\n",
       "              unt.tgfb.DEmonosome tgfb.tgfbCX5461.DEmonosome  \\\n",
       "rownames                                                       \n",
       "0610009B22Rik              notSig                     notSig   \n",
       "0610010F05Rik              notSig                     notSig   \n",
       "0610010K14Rik              notSig                     notSig   \n",
       "0610012G03Rik              notSig                     notSig   \n",
       "0610030E20Rik              notSig                     notSig   \n",
       "\n",
       "              reversible.monosome         biotype  \n",
       "rownames                                           \n",
       "0610009B22Rik              notSig  protein_coding  \n",
       "0610010F05Rik              notSig  protein_coding  \n",
       "0610010K14Rik              notSig  protein_coding  \n",
       "0610012G03Rik              notSig  protein_coding  \n",
       "0610030E20Rik              notSig  protein_coding  "
      ]
     },
     "execution_count": 40,
     "metadata": {},
     "output_type": "execute_result"
    }
   ],
   "source": [
    "print(df_all.keys())\n",
    "\n",
    "df = ( df_all >>\n",
    "  mask(df_all.biotype =='protein_coding')) #>>\n",
    " # mask(df_all. == 'up'))\n",
    "\n",
    "df = df.filter(regex=r'monosome|biotype')\n",
    "df = df.dropna(how='all')\n",
    "print(df.shape)\n",
    "df.head()"
   ]
  },
  {
   "cell_type": "code",
   "execution_count": 41,
   "id": "6f8b1697-4c1a-4412-ad8f-3558eadcb879",
   "metadata": {},
   "outputs": [
    {
     "name": "stdout",
     "output_type": "stream",
     "text": [
      "unt.tgfb.DEmonosome\n",
      "notSig                 7390\n",
      "up                      962\n",
      "down                    746\n",
      "dtype: int64\n",
      "tgfb.tgfbCX5461.DEmonosome\n",
      "notSig                        8965\n",
      "up                             115\n",
      "down                            18\n",
      "dtype: int64\n"
     ]
    }
   ],
   "source": [
    "print(df[['unt.tgfb.DEmonosome']].value_counts())\n",
    "print(df[['tgfb.tgfbCX5461.DEmonosome']].value_counts())"
   ]
  },
  {
   "cell_type": "code",
   "execution_count": 42,
   "id": "29110663-45f2-4d7f-8080-8b4c5fea4a41",
   "metadata": {},
   "outputs": [
    {
     "name": "stdout",
     "output_type": "stream",
     "text": [
      "Index(['unt.monosome', 'tgfb.monosome', 'tgfbCX5461.monosome',\n",
      "       'log2FCuntVStgfb.monosome', 'FDRuntVStgfb.monosome',\n",
      "       'PuntVStgfb.monosome', 'log2FCtgfbVStgfbCX5461.monosome',\n",
      "       'FDRtgfbVStgfbCX5461.monosome', 'PtgfbVStgfbCX5461.monosome',\n",
      "       'unt.tgfb.DEmonosome', 'tgfb.tgfbCX5461.DEmonosome',\n",
      "       'reversible.monosome', 'biotype'],\n",
      "      dtype='object')\n",
      "Dimesnsion of the dataFrame df_mono_upDown : (4, 13)\n",
      "Dimesnsion of the dataFrame df_mono_downUp : (6, 13)\n",
      "reversible.monosome\n",
      "notSig                 9088\n",
      "downUp                    6\n",
      "upDown                    4\n",
      "dtype: int64\n"
     ]
    }
   ],
   "source": [
    "print(df.keys())\n",
    "df_mono_upDown = df[(df['reversible.monosome']== 'upDown')]\n",
    "df_mono_downUp = df[(df['reversible.monosome']== 'downUp')]\n",
    "\n",
    "print('Dimesnsion of the dataFrame df_mono_upDown :', df_mono_upDown.shape)\n",
    "print('Dimesnsion of the dataFrame df_mono_downUp :', df_mono_downUp.shape)\n",
    "\n",
    "print(df[['reversible.monosome']].value_counts())"
   ]
  },
  {
   "cell_type": "markdown",
   "id": "4da6578d-9f32-4b26-8dfb-befbcd137655",
   "metadata": {},
   "source": [
    "## Venn diagram Mono RNA-seq and total input proteomics"
   ]
  },
  {
   "cell_type": "markdown",
   "id": "0f098bd9-472e-4b3e-9457-05264a88154f",
   "metadata": {},
   "source": [
    "### upDown"
   ]
  },
  {
   "cell_type": "code",
   "execution_count": 43,
   "id": "3e5c9d2a-c98e-43c3-afab-6d593e59275d",
   "metadata": {},
   "outputs": [
    {
     "data": {
      "image/png": "[encoded data removed]",
      "text/plain": [
       "<Figure size 500x500 with 1 Axes>"
      ]
     },
     "metadata": {},
     "output_type": "display_data"
    }
   ],
   "source": [
    "plt.rcParams['figure.figsize'] = [5, 5] # plt.figure plot very big file if dpi is over 100\n",
    "A = set(df_mono_upDown.index)\n",
    "B = set(total_proteomics_upDown.index)\n",
    "v = venn2([A, B], ('Mono-seq', 'Proteomics')) # venn2 works for two sets\n",
    "#v.get_label_by_id('11').set_text('\\n'.join(A&B))\n",
    "\n",
    "#plt.annotate('\\n'.join(sorted(A&B)), xy=v.get_label_by_id('11').get_position() +\n",
    "#             np.array([0, 0.1]), xytext=(2,60), ha='center',\n",
    "#             textcoords='offset points', \n",
    "#             bbox=dict(boxstyle='round,pad=0.5', fc='gray', alpha=0.1),\n",
    "#             arrowprops=dict(arrowstyle='->',              \n",
    "#                             connectionstyle='arc',color='gray'))\n",
    "plt.savefig('./tiff/upDown Venn diagram Mono-seq and total proteomics.tiff', dpi=500)\n",
    "plt.savefig('./pdf/upDown Venn diagram Mono-seq and total proteomics.pdf', dpi=500)"
   ]
  },
  {
   "cell_type": "markdown",
   "id": "b7ed6fdf-1756-45de-a856-ecb10aa1ce81",
   "metadata": {},
   "source": [
    "### downUp"
   ]
  },
  {
   "cell_type": "code",
   "execution_count": 44,
   "id": "590a7ea4-4b1b-4bb1-97f0-38aeaa62f4a8",
   "metadata": {},
   "outputs": [
    {
     "data": {
      "image/png": "[encoded data removed]",
      "text/plain": [
       "<Figure size 500x500 with 1 Axes>"
      ]
     },
     "metadata": {},
     "output_type": "display_data"
    }
   ],
   "source": [
    "plt.rcParams['figure.figsize'] = [5, 5] # plt.figure plot very big file if dpi is over 100\n",
    "A = set(df_mono_downUp.index)\n",
    "B = set(total_proteomics_downUp.index)\n",
    "v = venn2([A, B], ('Mono-seq', 'Proteomics')) # venn2 works for two sets\n",
    "#v.get_label_by_id('11').set_text('\\n'.join(A&B))\n",
    "\n",
    "plt.annotate('\\n'.join(sorted(A&B)), xy=v.get_label_by_id('11').get_position() +\n",
    "             np.array([0, 0.1]), xytext=(2,60), ha='center',\n",
    "             textcoords='offset points', \n",
    "             bbox=dict(boxstyle='round,pad=0.5', fc='gray', alpha=0.1),\n",
    "             arrowprops=dict(arrowstyle='->',              \n",
    "                             connectionstyle='arc',color='gray'))\n",
    "\n",
    "plt.savefig('./tiff/downUp Venn diagram Mono-seq and total proteomics.tiff', dpi=500)\n",
    "plt.savefig('./pdf/downUp Venn diagram Mono-seq and total proteomics.pdf', dpi=500)"
   ]
  },
  {
   "cell_type": "markdown",
   "id": "23dea8e3-8ab4-4383-84c9-3b87acabf0a8",
   "metadata": {},
   "source": [
    "# Monosome RNAseq and polysome proteomics Venn diagram"
   ]
  },
  {
   "cell_type": "markdown",
   "id": "c5b9d89e-6f37-4dea-96a2-a9b38992a7ed",
   "metadata": {},
   "source": [
    "### upDown"
   ]
  },
  {
   "cell_type": "code",
   "execution_count": 45,
   "id": "604e3dfb-18cb-4c98-80f6-767470068d5b",
   "metadata": {},
   "outputs": [
    {
     "data": {
      "image/png": "[encoded data removed]",
      "text/plain": [
       "<Figure size 500x500 with 1 Axes>"
      ]
     },
     "metadata": {},
     "output_type": "display_data"
    }
   ],
   "source": [
    "plt.rcParams['figure.figsize'] = [5, 5] # plt.figure plot very big file if dpi is over 100\n",
    "A = set(df_mono_upDown.index)\n",
    "B = set(total_poly_upDown.index)\n",
    "v = venn2([A, B], ('Mono-seq', 'Proteomics')) # venn2 works for two sets\n",
    "#v.get_label_by_id('11').set_text('\\n'.join(A&B))\n",
    "\n",
    "#plt.annotate('\\n'.join(sorted(A&B)), xy=v.get_label_by_id('11').get_position() +\n",
    "#             np.array([0, 0.1]), xytext=(2,60), ha='center',\n",
    "#             textcoords='offset points', \n",
    "#             bbox=dict(boxstyle='round,pad=0.5', fc='gray', alpha=0.1),\n",
    "#             arrowprops=dict(arrowstyle='->',              \n",
    "#                             connectionstyle='arc',color='gray'))\n",
    "plt.savefig('./tiff/upDown Venn diagram Mono-seq and Polysome proteomics.tiff', dpi=500)\n",
    "plt.savefig('./pdf/upDown Venn diagram Mono-seq and Polysome proteomics.pdf', dpi=500)"
   ]
  },
  {
   "cell_type": "markdown",
   "id": "182db423-b41f-405f-8b89-5371bc46470f",
   "metadata": {},
   "source": [
    "### downUp"
   ]
  },
  {
   "cell_type": "code",
   "execution_count": 46,
   "id": "90cd2be1-2934-4d10-b5be-49a9eda559ae",
   "metadata": {},
   "outputs": [
    {
     "data": {
      "image/png": "[encoded data removed]",
      "text/plain": [
       "<Figure size 500x500 with 1 Axes>"
      ]
     },
     "metadata": {},
     "output_type": "display_data"
    }
   ],
   "source": [
    "plt.rcParams['figure.figsize'] = [5, 5] # plt.figure plot very big file if dpi is over 100\n",
    "A = set(df_mono_downUp.index)\n",
    "B = set(total_poly_downUp.index)\n",
    "v = venn2([A, B], ('Mono-seq', 'Proteomics')) # venn2 works for two sets\n",
    "#v.get_label_by_id('11').set_text('\\n'.join(A&B))\n",
    "\n",
    "#plt.annotate('\\n'.join(sorted(A&B)), xy=v.get_label_by_id('11').get_position() +\n",
    "#             np.array([0, 0.1]), xytext=(2,60), ha='center',\n",
    "#             textcoords='offset points', \n",
    "#             bbox=dict(boxstyle='round,pad=0.5', fc='gray', alpha=0.1),\n",
    "#             arrowprops=dict(arrowstyle='->',              \n",
    "#                             connectionstyle='arc',color='gray'))\n",
    "plt.savefig('./tiff/downUp Venn diagram Mono-seq and Polysome proteomics.tiff', dpi=500)\n",
    "plt.savefig('./pdf/downUp Venn diagram Mono-seq and Polysome proteomics.pdf', dpi=500)"
   ]
  },
  {
   "cell_type": "markdown",
   "id": "56740b39-ffab-4070-adf3-697c8bdea66e",
   "metadata": {},
   "source": [
    "# Common upDown gene's Venn diagram"
   ]
  },
  {
   "cell_type": "raw",
   "id": "729d1d05-9da6-46cc-bcff-fb8b2561b760",
   "metadata": {},
   "source": [
    "This part of code is going to use R package VennDetail as it's hard to easily generate Venn diagram for more than three vectors.\n",
    "So, I am callin R package in python notebook by using rpy2 and saving plot in tiff directory. That's the easiest way to do it in my opinion.\n",
    "In future I will explore Python option for more than three vectors."
   ]
  },
  {
   "cell_type": "code",
   "execution_count": 47,
   "id": "af5d677a-53d2-4e71-81c6-6c1951c764f4",
   "metadata": {},
   "outputs": [],
   "source": [
    "from rpy2.robjects.packages import importr\n",
    "VennDetail = importr('VennDetail')\n",
    "base = importr('base')\n",
    "gr = importr('grDevices')"
   ]
  },
  {
   "cell_type": "code",
   "execution_count": 48,
   "id": "02bdd598-49c8-49d0-aaf6-a6095320b1dc",
   "metadata": {},
   "outputs": [
    {
     "name": "stdout",
     "output_type": "stream",
     "text": [
      "[1] \"All UpDown Venn Diagram\"\n",
      "All UpDown Gene's Venn Diagram\n"
     ]
    },
    {
     "name": "stderr",
     "output_type": "stream",
     "text": [
      "C:\\Users\\nmishra\\AppData\\Local\\anaconda3\\lib\\site-packages\\rpy2\\robjects\\packages.py:367: UserWarning: The symbol 'quartz' is not in this R namespace/package.\n",
      "  warnings.warn(\n"
     ]
    },
    {
     "data": {
      "image/png": "[encoded data removed]",
      "text/plain": [
       "<IPython.core.display.Image object>"
      ]
     },
     "metadata": {},
     "output_type": "display_data"
    }
   ],
   "source": [
    "file_name = \"All UpDown\"\n",
    "ven = VennDetail.venndetail(base.list(RiboSeqUpDn=ro.sequence_to_vector(df_upDown.index), PolySeqUpDn = ro.sequence_to_vector(df_poly_upDown.index), InpProUpDn = ro.sequence_to_vector(total_proteomics_upDown.index), PolyProtUpDn = ro.sequence_to_vector(total_poly_upDown.index)))\n",
    "#base.plot(ven, main=\"Common gene\")\n",
    "base.print(\"All UpDown Venn Diagram\")\n",
    "gr.tiff(file=base.sprintf(\"./tiff/Venn Diagram for %s.tiff\", file_name), width=8, height=8, units=\"in\", res=500)\n",
    "base.plot(ven)\n",
    "gr.dev_off()\n",
    "\n",
    "# Here I am using RMagic to display Venn diagram in jupyterLab cell. As If I am using base.plot it's displaying R plot in separate window and creating issue.\n",
    "%reload_ext rpy2.ipython\n",
    "print(\"All UpDown Gene's Venn Diagram\")\n",
    "ven = VennDetail.venndetail(base.list(RiboSeqUpDn=ro.sequence_to_vector(df_upDown.index), PolySeqUpDn = ro.sequence_to_vector(df_poly_downUp.index), InpProUpDn = ro.sequence_to_vector(total_proteomics_upDown.index), PolyProtUpDn = ro.sequence_to_vector(total_poly_upDown.index)))\n",
    "%R -i ven plot(ven)"
   ]
  },
  {
   "cell_type": "markdown",
   "id": "c6e674d8-92e0-47bf-979b-b3eb1bb2990b",
   "metadata": {},
   "source": [
    "# Common downUp gene's Venn digram"
   ]
  },
  {
   "cell_type": "code",
   "execution_count": 49,
   "id": "1001f51f-0e22-4dfa-92e2-78cd17c87c1a",
   "metadata": {},
   "outputs": [
    {
     "name": "stdout",
     "output_type": "stream",
     "text": [
      "[1] \"All DownUp Venn Diagram\"\n",
      "All DownUp Gene's Venn Diagram\n"
     ]
    },
    {
     "data": {
      "image/png": "[encoded data removed]",
      "text/plain": [
       "<IPython.core.display.Image object>"
      ]
     },
     "metadata": {},
     "output_type": "display_data"
    }
   ],
   "source": [
    "file_name = \"All DownUp\"\n",
    "ven = VennDetail.venndetail(base.list(RiboSeqDnUp=ro.sequence_to_vector(df_downUp.index), PolySeqDnUp = ro.sequence_to_vector(df_poly_downUp.index), InpProDnUp = ro.sequence_to_vector(total_proteomics_downUp.index), PolyProtDnUp = ro.sequence_to_vector(total_poly_downUp.index)))\n",
    "#base.plot(ven, main=\"Common gene\")\n",
    "base.print(\"All DownUp Venn Diagram\")\n",
    "gr.tiff(file=base.sprintf(\"./tiff/Venn Diagram for %s.tiff\", file_name), width=8, height=8, units=\"in\", res=500)\n",
    "base.plot(ven)\n",
    "gr.dev_off()\n",
    "\n",
    "# Here I am using RMagic to display Venn diagram in jupyterLab cell. As If I am using base.plot it's displaying R plot in separate window and creating issue.\n",
    "%reload_ext rpy2.ipython\n",
    "print(\"All DownUp Gene's Venn Diagram\")\n",
    "ven = VennDetail.venndetail(base.list(RiboSeqDnUp=ro.sequence_to_vector(df_downUp.index), PolySeqDnUp = ro.sequence_to_vector(df_poly_downUp.index), InpProDnUp = ro.sequence_to_vector(total_proteomics_downUp.index), PolyProtDnUp = ro.sequence_to_vector(total_poly_downUp.index)))\n",
    "%R -i ven plot(ven)"
   ]
  },
  {
   "cell_type": "raw",
   "id": "49e2e177-20b2-424c-a61d-415282e31074",
   "metadata": {},
   "source": [
    "#ro.sequence_to_vector(set1)\n",
    "#ven = VennDetail.venndetail(base.list(set1 = ro.sequence_to_vector(set1), set2 = ro.sequence_to_vector(set2), set3 = ro.sequence_to_vector(set3)))\n",
    "file_name = \"Unt_VS_TGFb_RNAseq_Proteomics_Total\"\n",
    "ven = VennDetail.venndetail(base.list(set1 = ro.sequence_to_vector(set1), set2 = ro.sequence_to_vector(set2), set3 = ro.sequence_to_vector(set3), set4 = ro.sequence_to_vector(set4)))\n",
    "#base.plot(ven, main=\"Common gene\")\n",
    "base.print(\"Unt VS TGFb in RNA-seq vs Proteomics\")\n",
    "gr.tiff(file=base.sprintf(\"./tiff/Venn Diagram .%s.tiff\", file_name), width=6, height=6, units=\"in\", res=300)\n",
    "base.plot(ven)\n",
    "gr.dev_off()\n",
    "\n",
    "# Here I am using RMagic to display Venn diagram in jupyterLab cell. As If I am using base.plot it's displaying R plot in separate window and creating issue.\n",
    "%reload_ext rpy2.ipython\n",
    "ven = VennDetail.venndetail(base.list(set1 = ro.sequence_to_vector(set1), set2 = ro.sequence_to_vector(set2), set3 = ro.sequence_to_vector(set3), set4 = ro.sequence_to_vector(set4)))\n",
    "%R -i ven plot(ven)"
   ]
  },
  {
   "cell_type": "code",
   "execution_count": null,
   "id": "792a3ccd-554a-4e0e-9461-3792f8041dd9",
   "metadata": {},
   "outputs": [],
   "source": []
  },
  {
   "cell_type": "code",
   "execution_count": null,
   "id": "aec2228d-1fd2-4add-adef-44ad26cd8329",
   "metadata": {},
   "outputs": [],
   "source": []
  }
 ],
 "metadata": {
  "kernelspec": {
   "display_name": "Python 3 (ipykernel)",
   "language": "python",
   "name": "python3"
  },
  "language_info": {
   "codemirror_mode": {
    "name": "ipython",
    "version": 3
   },
   "file_extension": ".py",
   "mimetype": "text/x-python",
   "name": "python",
   "nbconvert_exporter": "python",
   "pygments_lexer": "ipython3",
   "version": "3.10.9"
  },
  "toc-autonumbering": true
 },
 "nbformat": 4,
 "nbformat_minor": 5
}
