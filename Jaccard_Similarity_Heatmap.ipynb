{
 "cells": [
  {
   "cell_type": "code",
   "execution_count": 90,
   "id": "95d677f0",
   "metadata": {},
   "outputs": [
    {
     "data": {
      "text/plain": [
       "array([[1, 2, 1, 0, 1],\n",
       "       [1, 2, 0, 1, 3],\n",
       "       [0, 3, 1, 2, 1],\n",
       "       [1, 2, 1, 3, 0]])"
      ]
     },
     "execution_count": 90,
     "metadata": {},
     "output_type": "execute_result"
    }
   ],
   "source": [
    "import numpy as np\n",
    "from sklearn.metrics import jaccard_score\n",
    "from scipy.spatial.distance import pdist, squareform\n",
    " \n",
    "my_data = np.array([[1,2,1,0,1],\n",
    "         [1,2,0,1,3],\n",
    "         [0,3,1,2,1],\n",
    "         [1,2,1,3,0]])\n",
    " \n",
    "my_data"
   ]
  },
  {
   "cell_type": "code",
   "execution_count": 91,
   "id": "ee4a6894",
   "metadata": {},
   "outputs": [],
   "source": [
    "jaccard_distances = pdist(my_data, metric='jaccard')\n",
    "jaccard_distances = squareform(jaccard_distances)"
   ]
  },
  {
   "cell_type": "code",
   "execution_count": 92,
   "id": "b0f48de8",
   "metadata": {},
   "outputs": [
    {
     "data": {
      "text/plain": [
       "array([[1. , 0.4, 0.4, 0.6],\n",
       "       [0.4, 1. , 0. , 0.4],\n",
       "       [0.4, 0. , 1. , 0.2],\n",
       "       [0.6, 0.4, 0.2, 1. ]])"
      ]
     },
     "execution_count": 92,
     "metadata": {},
     "output_type": "execute_result"
    }
   ],
   "source": [
    "jaccard_similarity = 1-jaccard_distances\n",
    "jaccard_similarity"
   ]
  },
  {
   "cell_type": "code",
   "execution_count": 93,
   "id": "78b95a20",
   "metadata": {},
   "outputs": [
    {
     "data": {
      "text/plain": [
       "<AxesSubplot:>"
      ]
     },
     "execution_count": 93,
     "metadata": {},
     "output_type": "execute_result"
    },
    {
     "data": {
      "image/png": "[encoded data removed]",
      "text/plain": [
       "<Figure size 432x288 with 2 Axes>"
      ]
     },
     "metadata": {
      "needs_background": "light"
     },
     "output_type": "display_data"
    }
   ],
   "source": [
    "import seaborn as sns\n",
    "import matplotlib.pyplot as plt\n",
    "cmap = sns.color_palette(\"coolwarm\", 25, as_cmap=True)\n",
    "sns.heatmap(jaccard_similarity, cmap=cmap)"
   ]
  },
  {
   "cell_type": "code",
   "execution_count": 74,
   "id": "220f313b",
   "metadata": {},
   "outputs": [
    {
     "data": {
      "image/png": "[encoded data removed]",
      "text/plain": [
       "<Figure size 720x72 with 1 Axes>"
      ]
     },
     "metadata": {
      "needs_background": "light"
     },
     "output_type": "display_data"
    }
   ],
   "source": [
    "sns.palplot(sns.color_palette(\"vlag\", 10))"
   ]
  },
  {
   "cell_type": "code",
   "execution_count": null,
   "id": "a4587aa6",
   "metadata": {},
   "outputs": [],
   "source": []
  }
 ],
 "metadata": {
  "kernelspec": {
   "display_name": "Python 3 (ipykernel)",
   "language": "python",
   "name": "python3"
  },
  "language_info": {
   "codemirror_mode": {
    "name": "ipython",
    "version": 3
   },
   "file_extension": ".py",
   "mimetype": "text/x-python",
   "name": "python",
   "nbconvert_exporter": "python",
   "pygments_lexer": "ipython3",
   "version": "3.8.8"
  }
 },
 "nbformat": 4,
 "nbformat_minor": 5
}
